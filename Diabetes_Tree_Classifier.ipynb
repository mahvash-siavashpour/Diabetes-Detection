{
 "cells": [
  {
   "cell_type": "markdown",
   "id": "6BKW5FcAxD_x",
   "metadata": {
    "id": "6BKW5FcAxD_x"
   },
   "source": [
    "# Diabetes Detection"
   ]
  },
  {
   "cell_type": "code",
   "execution_count": null,
   "id": "ba58261d",
   "metadata": {
    "id": "ba58261d"
   },
   "outputs": [],
   "source": [
    "import numpy as np\n",
    "import pandas as pd"
   ]
  },
  {
   "cell_type": "code",
   "execution_count": null,
   "id": "3d616f52",
   "metadata": {
    "id": "3d616f52"
   },
   "outputs": [],
   "source": [
    "df = pd.read_csv('diabetes.csv')"
   ]
  },
  {
   "cell_type": "code",
   "execution_count": null,
   "id": "7c4e92ac",
   "metadata": {
    "colab": {
     "base_uri": "https://localhost:8080/",
     "height": 352
    },
    "id": "7c4e92ac",
    "outputId": "3e7bac4d-24e8-43cb-8a6e-33b2ad6e33dc"
   },
   "outputs": [
    {
     "data": {
      "text/html": [
       "\n",
       "  <div id=\"df-83f79800-928d-457c-92fd-bc94745cfb44\">\n",
       "    <div class=\"colab-df-container\">\n",
       "      <div>\n",
       "<style scoped>\n",
       "    .dataframe tbody tr th:only-of-type {\n",
       "        vertical-align: middle;\n",
       "    }\n",
       "\n",
       "    .dataframe tbody tr th {\n",
       "        vertical-align: top;\n",
       "    }\n",
       "\n",
       "    .dataframe thead th {\n",
       "        text-align: right;\n",
       "    }\n",
       "</style>\n",
       "<table border=\"1\" class=\"dataframe\">\n",
       "  <thead>\n",
       "    <tr style=\"text-align: right;\">\n",
       "      <th></th>\n",
       "      <th>Unnamed: 0</th>\n",
       "      <th>Diabetes_binary</th>\n",
       "      <th>HighBP</th>\n",
       "      <th>High Cholesterol</th>\n",
       "      <th>Cholesterol Check</th>\n",
       "      <th>BMI</th>\n",
       "      <th>Smoker</th>\n",
       "      <th>Stroke</th>\n",
       "      <th>HeartDiseaseorAttack</th>\n",
       "      <th>Physical Activity</th>\n",
       "      <th>...</th>\n",
       "      <th>Any Health Care</th>\n",
       "      <th>No Doctor because of Cost</th>\n",
       "      <th>General Health</th>\n",
       "      <th>Mental Health</th>\n",
       "      <th>Physical Health</th>\n",
       "      <th>Difficulty Walking</th>\n",
       "      <th>Sex</th>\n",
       "      <th>Age</th>\n",
       "      <th>Education</th>\n",
       "      <th>Income</th>\n",
       "    </tr>\n",
       "  </thead>\n",
       "  <tbody>\n",
       "    <tr>\n",
       "      <th>0</th>\n",
       "      <td>0</td>\n",
       "      <td>0.0</td>\n",
       "      <td>1.0</td>\n",
       "      <td>0.0</td>\n",
       "      <td>1.0</td>\n",
       "      <td>26.0</td>\n",
       "      <td>0.0</td>\n",
       "      <td>0.0</td>\n",
       "      <td>0.0</td>\n",
       "      <td>1.0</td>\n",
       "      <td>...</td>\n",
       "      <td>1.0</td>\n",
       "      <td>0.0</td>\n",
       "      <td>Medium</td>\n",
       "      <td>5.0</td>\n",
       "      <td>30.0</td>\n",
       "      <td>0.0</td>\n",
       "      <td>male</td>\n",
       "      <td>4.0</td>\n",
       "      <td>Cat6</td>\n",
       "      <td>Cat8</td>\n",
       "    </tr>\n",
       "    <tr>\n",
       "      <th>1</th>\n",
       "      <td>1</td>\n",
       "      <td>0.0</td>\n",
       "      <td>1.0</td>\n",
       "      <td>1.0</td>\n",
       "      <td>1.0</td>\n",
       "      <td>26.0</td>\n",
       "      <td>1.0</td>\n",
       "      <td>1.0</td>\n",
       "      <td>0.0</td>\n",
       "      <td>0.0</td>\n",
       "      <td>...</td>\n",
       "      <td>1.0</td>\n",
       "      <td>0.0</td>\n",
       "      <td>Medium</td>\n",
       "      <td>0.0</td>\n",
       "      <td>0.0</td>\n",
       "      <td>0.0</td>\n",
       "      <td>male</td>\n",
       "      <td>12.0</td>\n",
       "      <td>Cat6</td>\n",
       "      <td>Cat8</td>\n",
       "    </tr>\n",
       "    <tr>\n",
       "      <th>2</th>\n",
       "      <td>2</td>\n",
       "      <td>0.0</td>\n",
       "      <td>0.0</td>\n",
       "      <td>0.0</td>\n",
       "      <td>1.0</td>\n",
       "      <td>26.0</td>\n",
       "      <td>0.0</td>\n",
       "      <td>0.0</td>\n",
       "      <td>0.0</td>\n",
       "      <td>1.0</td>\n",
       "      <td>...</td>\n",
       "      <td>1.0</td>\n",
       "      <td>0.0</td>\n",
       "      <td>High</td>\n",
       "      <td>0.0</td>\n",
       "      <td>10.0</td>\n",
       "      <td>0.0</td>\n",
       "      <td>male</td>\n",
       "      <td>13.0</td>\n",
       "      <td>Cat6</td>\n",
       "      <td>Cat8</td>\n",
       "    </tr>\n",
       "    <tr>\n",
       "      <th>3</th>\n",
       "      <td>3</td>\n",
       "      <td>0.0</td>\n",
       "      <td>1.0</td>\n",
       "      <td>1.0</td>\n",
       "      <td>1.0</td>\n",
       "      <td>28.0</td>\n",
       "      <td>1.0</td>\n",
       "      <td>0.0</td>\n",
       "      <td>0.0</td>\n",
       "      <td>1.0</td>\n",
       "      <td>...</td>\n",
       "      <td>1.0</td>\n",
       "      <td>0.0</td>\n",
       "      <td>Medium</td>\n",
       "      <td>0.0</td>\n",
       "      <td>3.0</td>\n",
       "      <td>0.0</td>\n",
       "      <td>male</td>\n",
       "      <td>11.0</td>\n",
       "      <td>Cat6</td>\n",
       "      <td>Cat8</td>\n",
       "    </tr>\n",
       "    <tr>\n",
       "      <th>4</th>\n",
       "      <td>4</td>\n",
       "      <td>0.0</td>\n",
       "      <td>0.0</td>\n",
       "      <td>0.0</td>\n",
       "      <td>1.0</td>\n",
       "      <td>29.0</td>\n",
       "      <td>1.0</td>\n",
       "      <td>0.0</td>\n",
       "      <td>0.0</td>\n",
       "      <td>1.0</td>\n",
       "      <td>...</td>\n",
       "      <td>1.0</td>\n",
       "      <td>0.0</td>\n",
       "      <td>Good</td>\n",
       "      <td>0.0</td>\n",
       "      <td>0.0</td>\n",
       "      <td>0.0</td>\n",
       "      <td>female</td>\n",
       "      <td>8.0</td>\n",
       "      <td>Cat5</td>\n",
       "      <td>Cat8</td>\n",
       "    </tr>\n",
       "  </tbody>\n",
       "</table>\n",
       "<p>5 rows × 23 columns</p>\n",
       "</div>\n",
       "      <button class=\"colab-df-convert\" onclick=\"convertToInteractive('df-83f79800-928d-457c-92fd-bc94745cfb44')\"\n",
       "              title=\"Convert this dataframe to an interactive table.\"\n",
       "              style=\"display:none;\">\n",
       "        \n",
       "  <svg xmlns=\"http://www.w3.org/2000/svg\" height=\"24px\"viewBox=\"0 0 24 24\"\n",
       "       width=\"24px\">\n",
       "    <path d=\"M0 0h24v24H0V0z\" fill=\"none\"/>\n",
       "    <path d=\"M18.56 5.44l.94 2.06.94-2.06 2.06-.94-2.06-.94-.94-2.06-.94 2.06-2.06.94zm-11 1L8.5 8.5l.94-2.06 2.06-.94-2.06-.94L8.5 2.5l-.94 2.06-2.06.94zm10 10l.94 2.06.94-2.06 2.06-.94-2.06-.94-.94-2.06-.94 2.06-2.06.94z\"/><path d=\"M17.41 7.96l-1.37-1.37c-.4-.4-.92-.59-1.43-.59-.52 0-1.04.2-1.43.59L10.3 9.45l-7.72 7.72c-.78.78-.78 2.05 0 2.83L4 21.41c.39.39.9.59 1.41.59.51 0 1.02-.2 1.41-.59l7.78-7.78 2.81-2.81c.8-.78.8-2.07 0-2.86zM5.41 20L4 18.59l7.72-7.72 1.47 1.35L5.41 20z\"/>\n",
       "  </svg>\n",
       "      </button>\n",
       "      \n",
       "  <style>\n",
       "    .colab-df-container {\n",
       "      display:flex;\n",
       "      flex-wrap:wrap;\n",
       "      gap: 12px;\n",
       "    }\n",
       "\n",
       "    .colab-df-convert {\n",
       "      background-color: #E8F0FE;\n",
       "      border: none;\n",
       "      border-radius: 50%;\n",
       "      cursor: pointer;\n",
       "      display: none;\n",
       "      fill: #1967D2;\n",
       "      height: 32px;\n",
       "      padding: 0 0 0 0;\n",
       "      width: 32px;\n",
       "    }\n",
       "\n",
       "    .colab-df-convert:hover {\n",
       "      background-color: #E2EBFA;\n",
       "      box-shadow: 0px 1px 2px rgba(60, 64, 67, 0.3), 0px 1px 3px 1px rgba(60, 64, 67, 0.15);\n",
       "      fill: #174EA6;\n",
       "    }\n",
       "\n",
       "    [theme=dark] .colab-df-convert {\n",
       "      background-color: #3B4455;\n",
       "      fill: #D2E3FC;\n",
       "    }\n",
       "\n",
       "    [theme=dark] .colab-df-convert:hover {\n",
       "      background-color: #434B5C;\n",
       "      box-shadow: 0px 1px 3px 1px rgba(0, 0, 0, 0.15);\n",
       "      filter: drop-shadow(0px 1px 2px rgba(0, 0, 0, 0.3));\n",
       "      fill: #FFFFFF;\n",
       "    }\n",
       "  </style>\n",
       "\n",
       "      <script>\n",
       "        const buttonEl =\n",
       "          document.querySelector('#df-83f79800-928d-457c-92fd-bc94745cfb44 button.colab-df-convert');\n",
       "        buttonEl.style.display =\n",
       "          google.colab.kernel.accessAllowed ? 'block' : 'none';\n",
       "\n",
       "        async function convertToInteractive(key) {\n",
       "          const element = document.querySelector('#df-83f79800-928d-457c-92fd-bc94745cfb44');\n",
       "          const dataTable =\n",
       "            await google.colab.kernel.invokeFunction('convertToInteractive',\n",
       "                                                     [key], {});\n",
       "          if (!dataTable) return;\n",
       "\n",
       "          const docLinkHtml = 'Like what you see? Visit the ' +\n",
       "            '<a target=\"_blank\" href=https://colab.research.google.com/notebooks/data_table.ipynb>data table notebook</a>'\n",
       "            + ' to learn more about interactive tables.';\n",
       "          element.innerHTML = '';\n",
       "          dataTable['output_type'] = 'display_data';\n",
       "          await google.colab.output.renderOutput(dataTable, element);\n",
       "          const docLink = document.createElement('div');\n",
       "          docLink.innerHTML = docLinkHtml;\n",
       "          element.appendChild(docLink);\n",
       "        }\n",
       "      </script>\n",
       "    </div>\n",
       "  </div>\n",
       "  "
      ],
      "text/plain": [
       "   Unnamed: 0  Diabetes_binary  HighBP  High Cholesterol  Cholesterol Check  \\\n",
       "0           0              0.0     1.0               0.0                1.0   \n",
       "1           1              0.0     1.0               1.0                1.0   \n",
       "2           2              0.0     0.0               0.0                1.0   \n",
       "3           3              0.0     1.0               1.0                1.0   \n",
       "4           4              0.0     0.0               0.0                1.0   \n",
       "\n",
       "    BMI  Smoker  Stroke  HeartDiseaseorAttack  Physical Activity  ...  \\\n",
       "0  26.0     0.0     0.0                   0.0                1.0  ...   \n",
       "1  26.0     1.0     1.0                   0.0                0.0  ...   \n",
       "2  26.0     0.0     0.0                   0.0                1.0  ...   \n",
       "3  28.0     1.0     0.0                   0.0                1.0  ...   \n",
       "4  29.0     1.0     0.0                   0.0                1.0  ...   \n",
       "\n",
       "   Any Health Care  No Doctor because of Cost  General Health  Mental Health  \\\n",
       "0              1.0                        0.0          Medium            5.0   \n",
       "1              1.0                        0.0          Medium            0.0   \n",
       "2              1.0                        0.0            High            0.0   \n",
       "3              1.0                        0.0          Medium            0.0   \n",
       "4              1.0                        0.0            Good            0.0   \n",
       "\n",
       "   Physical Health Difficulty Walking     Sex   Age  Education Income  \n",
       "0             30.0                0.0    male   4.0       Cat6   Cat8  \n",
       "1              0.0                0.0    male  12.0       Cat6   Cat8  \n",
       "2             10.0                0.0    male  13.0       Cat6   Cat8  \n",
       "3              3.0                0.0    male  11.0       Cat6   Cat8  \n",
       "4              0.0                0.0  female   8.0       Cat5   Cat8  \n",
       "\n",
       "[5 rows x 23 columns]"
      ]
     },
     "execution_count": 3,
     "metadata": {},
     "output_type": "execute_result"
    }
   ],
   "source": [
    "df.head()"
   ]
  },
  {
   "cell_type": "markdown",
   "id": "4c34b494",
   "metadata": {
    "id": "4c34b494"
   },
   "source": [
    "# Preprocessing"
   ]
  },
  {
   "cell_type": "markdown",
   "id": "6cf031dc",
   "metadata": {
    "id": "6cf031dc"
   },
   "source": [
    "## Null"
   ]
  },
  {
   "cell_type": "markdown",
   "id": "jubmsd0eOXMr",
   "metadata": {
    "id": "jubmsd0eOXMr"
   },
   "source": [
    "<font color='blue'>\n",
    "    Find all different values present in each column\n",
    "</font>"
   ]
  },
  {
   "cell_type": "code",
   "execution_count": null,
   "id": "b34478ee",
   "metadata": {
    "colab": {
     "base_uri": "https://localhost:8080/"
    },
    "id": "b34478ee",
    "outputId": "f8665f57-e02c-4002-ec35-70fdfa2bdc32"
   },
   "outputs": [
    {
     "name": "stdout",
     "output_type": "stream",
     "text": [
      "Unnamed: 0 \n",
      " [    0     1     2 ... 70689 70690 70691]\n",
      "\n",
      "Diabetes_binary \n",
      " [0. 1.]\n",
      "\n",
      "HighBP \n",
      " [1. 0.]\n",
      "\n",
      "High Cholesterol \n",
      " [0. 1.]\n",
      "\n",
      "Cholesterol Check \n",
      " [1. 0.]\n",
      "\n",
      "BMI \n",
      " [26. 28. 29. 18. 31. 32. 27. 24. 21. 58. 30. 20. 22. 38. 40. 25. 36. 47.\n",
      " 19. 37. 41. 23. 34. 35. 42. 17. 33. 44. 15. 52. 69. 56. 45. 39. 92. 53.\n",
      " 98. 50. 46. 79. 48. 16. 63. 72. 54. 49. 68. 43. 84. 73. 76. 55. 51. 75.\n",
      " 57. 60. 12. 77. 82. 67. 71. 61. 14. 81. 59. 86. 13. 87. 65. 95. 89. 62.\n",
      " 64. 66. 85. 70. 83. nan 80. 78. 74.]\n",
      "\n",
      "Smoker \n",
      " [0. 1.]\n",
      "\n",
      "Stroke \n",
      " [0. 1.]\n",
      "\n",
      "HeartDiseaseorAttack \n",
      " [ 0.  1. nan]\n",
      "\n",
      "Physical Activity \n",
      " [ 1.  0. nan]\n",
      "\n",
      "Fruits \n",
      " [ 0.  1. nan]\n",
      "\n",
      "Veggies \n",
      " [ 1.  0. nan]\n",
      "\n",
      "Heavy Alcohol Consumption \n",
      " [ 0.  1. nan]\n",
      "\n",
      "Any Health Care \n",
      " [ 1.  0. nan]\n",
      "\n",
      "No Doctor because of Cost \n",
      " [ 0.  1. nan]\n",
      "\n",
      "General Health \n",
      " ['Medium' 'High' 'Good' 'Low' 'Very Low' nan]\n",
      "\n",
      "Mental Health \n",
      " [ 5.  0.  7.  3.  4.  2. 30. 20.  1. 15. 10. 25. 14. 28.  6. 29. 26. 12.\n",
      " 16. 22. 13.  8.  9. 21. 18. 17. 27. nan 24. 23. 11. 19.]\n",
      "\n",
      "Physical Health \n",
      " [30.  0. 10.  3.  6.  4. 15.  1.  2. 14.  7. 25. 21. 20.  5.  8. 22. 23.\n",
      " 29. 12. 18. 28. 26. 24. 27. 11. 13. 16. 17.  9. 19. nan]\n",
      "\n",
      "Difficulty Walking \n",
      " [ 0.  1. nan]\n",
      "\n",
      "Sex \n",
      " ['male' 'female' nan]\n",
      "\n",
      "Age \n",
      " [ 4. 12. 13. 11.  8.  1.  6.  3.  7. 10.  9.  5.  2. nan]\n",
      "\n",
      "Education \n",
      " ['Cat6' 'Cat5' 'Cat4' 'Cat3' 'Cat2' 'Cat1' nan]\n",
      "\n",
      "Income \n",
      " ['Cat8' 'Cat7' 'Cat6' 'Cat3' 'Cat4' 'Cat1' 'Cat5' 'Cat2' nan 'Unknown']\n",
      "\n"
     ]
    }
   ],
   "source": [
    "for col in df:\n",
    "    print(f\"{col} \\n {df[col].unique()}\\n\")\n",
    "    "
   ]
  },
  {
   "cell_type": "markdown",
   "id": "db40b2b6",
   "metadata": {
    "id": "db40b2b6"
   },
   "source": [
    "<font color='blue'>\n",
    "    Unify all missing types\n",
    "</font>"
   ]
  },
  {
   "cell_type": "code",
   "execution_count": null,
   "id": "709050fe",
   "metadata": {
    "colab": {
     "base_uri": "https://localhost:8080/"
    },
    "id": "709050fe",
    "outputId": "b6a77f07-9c28-4b48-e437-66f2d50b3979"
   },
   "outputs": [
    {
     "data": {
      "text/plain": [
       "Unnamed: 0                   0\n",
       "Diabetes_binary              0\n",
       "HighBP                       0\n",
       "High Cholesterol             0\n",
       "Cholesterol Check            0\n",
       "BMI                          1\n",
       "Smoker                       0\n",
       "Stroke                       0\n",
       "HeartDiseaseorAttack         1\n",
       "Physical Activity            1\n",
       "Fruits                       2\n",
       "Veggies                      1\n",
       "Heavy Alcohol Consumption    1\n",
       "Any Health Care              2\n",
       "No Doctor because of Cost    2\n",
       "General Health               1\n",
       "Mental Health                1\n",
       "Physical Health              1\n",
       "Difficulty Walking           2\n",
       "Sex                          1\n",
       "Age                          1\n",
       "Education                    1\n",
       "Income                       1\n",
       "dtype: int64"
      ]
     },
     "execution_count": 5,
     "metadata": {},
     "output_type": "execute_result"
    }
   ],
   "source": [
    "df.replace('Unknown', None, inplace=True)\n",
    "df.replace('-', None, inplace=True)\n",
    "df.replace('?', None, inplace=True)\n",
    "df.isnull().sum()"
   ]
  },
  {
   "cell_type": "markdown",
   "id": "36dce012",
   "metadata": {
    "id": "36dce012"
   },
   "source": [
    "<font color='blue'>\n",
    "    Remove rows containing more than 2 missing values\n",
    "</font>"
   ]
  },
  {
   "cell_type": "code",
   "execution_count": null,
   "id": "156fdbdc",
   "metadata": {
    "id": "156fdbdc"
   },
   "outputs": [],
   "source": [
    "df = df[df.isnull().sum(axis=1) <= 2]"
   ]
  },
  {
   "cell_type": "code",
   "execution_count": null,
   "id": "e6c06c56",
   "metadata": {
    "colab": {
     "base_uri": "https://localhost:8080/"
    },
    "id": "e6c06c56",
    "outputId": "3f2bd500-b779-4f55-88c3-9d24e1e4956b"
   },
   "outputs": [
    {
     "data": {
      "text/plain": [
       "Unnamed: 0                   0\n",
       "Diabetes_binary              0\n",
       "HighBP                       0\n",
       "High Cholesterol             0\n",
       "Cholesterol Check            0\n",
       "BMI                          1\n",
       "Smoker                       0\n",
       "Stroke                       0\n",
       "HeartDiseaseorAttack         0\n",
       "Physical Activity            0\n",
       "Fruits                       1\n",
       "Veggies                      0\n",
       "Heavy Alcohol Consumption    0\n",
       "Any Health Care              1\n",
       "No Doctor because of Cost    1\n",
       "General Health               0\n",
       "Mental Health                0\n",
       "Physical Health              0\n",
       "Difficulty Walking           1\n",
       "Sex                          0\n",
       "Age                          0\n",
       "Education                    0\n",
       "Income                       0\n",
       "dtype: int64"
      ]
     },
     "execution_count": 7,
     "metadata": {},
     "output_type": "execute_result"
    }
   ],
   "source": [
    "df.isnull().sum()"
   ]
  },
  {
   "cell_type": "markdown",
   "id": "09e8a731",
   "metadata": {
    "id": "09e8a731"
   },
   "source": [
    "<font color='blue'>\n",
    "    Find NaNs and replace them by either the mean(numerical) or the mode(categorical and binary) of that column. <br>\n",
    "    By doing so we can keep and refine the dataset with out removing any data\n",
    "</font>"
   ]
  },
  {
   "cell_type": "code",
   "execution_count": null,
   "id": "7c8df567",
   "metadata": {
    "colab": {
     "base_uri": "https://localhost:8080/"
    },
    "id": "7c8df567",
    "outputId": "2d33afe3-0eda-4c4b-f759-403ae58c8718"
   },
   "outputs": [
    {
     "name": "stderr",
     "output_type": "stream",
     "text": [
      "/usr/local/lib/python3.7/dist-packages/pandas/core/generic.py:6392: SettingWithCopyWarning: \n",
      "A value is trying to be set on a copy of a slice from a DataFrame\n",
      "\n",
      "See the caveats in the documentation: https://pandas.pydata.org/pandas-docs/stable/user_guide/indexing.html#returning-a-view-versus-a-copy\n",
      "  return self._update_inplace(result)\n"
     ]
    }
   ],
   "source": [
    "df[\"BMI\"].fillna(df['BMI'].mean(), inplace=True)\n",
    "\n",
    "\n",
    "df[\"Fruits\"].fillna(df['Fruits'].value_counts().idxmax(), inplace=True)\n",
    "\n",
    "df[\"Any Health Care\"].fillna(df['Any Health Care'].value_counts().idxmax(), inplace=True)\n",
    "\n",
    "df[\"No Doctor because of Cost\"].fillna(df['No Doctor because of Cost'].value_counts().idxmax(), inplace=True)\n",
    "\n",
    "df[\"Difficulty Walking\"].fillna(df['Difficulty Walking'].value_counts().idxmax(), inplace=True)\n",
    "\n",
    "df[\"Income\"].fillna(df['Income'].value_counts().idxmax(), inplace=True)"
   ]
  },
  {
   "cell_type": "code",
   "execution_count": null,
   "id": "c84ed24f",
   "metadata": {
    "colab": {
     "base_uri": "https://localhost:8080/"
    },
    "id": "c84ed24f",
    "outputId": "f40d2c33-d316-40b3-927f-653ba64ecc1b"
   },
   "outputs": [
    {
     "data": {
      "text/plain": [
       "Unnamed: 0                   0\n",
       "Diabetes_binary              0\n",
       "HighBP                       0\n",
       "High Cholesterol             0\n",
       "Cholesterol Check            0\n",
       "BMI                          0\n",
       "Smoker                       0\n",
       "Stroke                       0\n",
       "HeartDiseaseorAttack         0\n",
       "Physical Activity            0\n",
       "Fruits                       0\n",
       "Veggies                      0\n",
       "Heavy Alcohol Consumption    0\n",
       "Any Health Care              0\n",
       "No Doctor because of Cost    0\n",
       "General Health               0\n",
       "Mental Health                0\n",
       "Physical Health              0\n",
       "Difficulty Walking           0\n",
       "Sex                          0\n",
       "Age                          0\n",
       "Education                    0\n",
       "Income                       0\n",
       "dtype: int64"
      ]
     },
     "execution_count": 9,
     "metadata": {},
     "output_type": "execute_result"
    }
   ],
   "source": [
    "df.isnull().sum()"
   ]
  },
  {
   "cell_type": "markdown",
   "id": "a084a6f1",
   "metadata": {
    "id": "a084a6f1"
   },
   "source": [
    "## White space"
   ]
  },
  {
   "cell_type": "markdown",
   "id": "9428360d",
   "metadata": {
    "id": "9428360d"
   },
   "source": [
    "<font color='blue'>\n",
    "    Replace white spaces in column names\n",
    "</font>"
   ]
  },
  {
   "cell_type": "code",
   "execution_count": null,
   "id": "678c30cc",
   "metadata": {
    "colab": {
     "base_uri": "https://localhost:8080/"
    },
    "id": "678c30cc",
    "outputId": "427ae95e-9305-40ee-9783-109af9fba615"
   },
   "outputs": [
    {
     "data": {
      "text/plain": [
       "Index(['Unnamed:_0', 'Diabetes_binary', 'HighBP', 'High_Cholesterol',\n",
       "       'Cholesterol_Check', 'BMI', 'Smoker', 'Stroke', 'HeartDiseaseorAttack',\n",
       "       'Physical_Activity', 'Fruits', 'Veggies', 'Heavy_Alcohol_Consumption',\n",
       "       'Any_Health_Care', 'No_Doctor_because_of_Cost', 'General_Health',\n",
       "       'Mental_Health', 'Physical_Health', 'Difficulty_Walking', 'Sex', 'Age',\n",
       "       'Education', 'Income'],\n",
       "      dtype='object')"
      ]
     },
     "execution_count": 10,
     "metadata": {},
     "output_type": "execute_result"
    }
   ],
   "source": [
    "df.columns = df.columns.str.replace(' ','_')\n",
    "df.columns"
   ]
  },
  {
   "cell_type": "markdown",
   "id": "90c3da50",
   "metadata": {
    "id": "90c3da50"
   },
   "source": [
    "<font color='blue'>\n",
    "    Replace white spaces in the whole dataframe\n",
    "</font>"
   ]
  },
  {
   "cell_type": "code",
   "execution_count": null,
   "id": "b65e4932",
   "metadata": {
    "id": "b65e4932"
   },
   "outputs": [],
   "source": [
    "df.replace(' ', '_', regex=True, inplace=True)"
   ]
  },
  {
   "cell_type": "markdown",
   "id": "31f210fd",
   "metadata": {
    "id": "31f210fd"
   },
   "source": [
    "## Normalization"
   ]
  },
  {
   "cell_type": "code",
   "execution_count": null,
   "id": "507a33bd",
   "metadata": {
    "colab": {
     "base_uri": "https://localhost:8080/",
     "height": 364
    },
    "id": "507a33bd",
    "outputId": "33804024-d3b7-4fde-f3dc-4a0dd510bab7"
   },
   "outputs": [
    {
     "data": {
      "text/html": [
       "\n",
       "  <div id=\"df-041f85fc-f4ce-44e8-afcc-3318da1effb4\">\n",
       "    <div class=\"colab-df-container\">\n",
       "      <div>\n",
       "<style scoped>\n",
       "    .dataframe tbody tr th:only-of-type {\n",
       "        vertical-align: middle;\n",
       "    }\n",
       "\n",
       "    .dataframe tbody tr th {\n",
       "        vertical-align: top;\n",
       "    }\n",
       "\n",
       "    .dataframe thead th {\n",
       "        text-align: right;\n",
       "    }\n",
       "</style>\n",
       "<table border=\"1\" class=\"dataframe\">\n",
       "  <thead>\n",
       "    <tr style=\"text-align: right;\">\n",
       "      <th></th>\n",
       "      <th>Unnamed:_0</th>\n",
       "      <th>Diabetes_binary</th>\n",
       "      <th>HighBP</th>\n",
       "      <th>High_Cholesterol</th>\n",
       "      <th>Cholesterol_Check</th>\n",
       "      <th>BMI</th>\n",
       "      <th>Smoker</th>\n",
       "      <th>Stroke</th>\n",
       "      <th>HeartDiseaseorAttack</th>\n",
       "      <th>Physical_Activity</th>\n",
       "      <th>Fruits</th>\n",
       "      <th>Veggies</th>\n",
       "      <th>Heavy_Alcohol_Consumption</th>\n",
       "      <th>Any_Health_Care</th>\n",
       "      <th>No_Doctor_because_of_Cost</th>\n",
       "      <th>Mental_Health</th>\n",
       "      <th>Physical_Health</th>\n",
       "      <th>Difficulty_Walking</th>\n",
       "      <th>Age</th>\n",
       "    </tr>\n",
       "  </thead>\n",
       "  <tbody>\n",
       "    <tr>\n",
       "      <th>count</th>\n",
       "      <td>70691.000000</td>\n",
       "      <td>70691.000000</td>\n",
       "      <td>70691.000000</td>\n",
       "      <td>70691.000000</td>\n",
       "      <td>70691.000000</td>\n",
       "      <td>70691.000000</td>\n",
       "      <td>70691.000000</td>\n",
       "      <td>70691.000000</td>\n",
       "      <td>70691.000000</td>\n",
       "      <td>70691.000000</td>\n",
       "      <td>70691.000000</td>\n",
       "      <td>70691.000000</td>\n",
       "      <td>70691.000000</td>\n",
       "      <td>70691.000000</td>\n",
       "      <td>70691.000000</td>\n",
       "      <td>70691.000000</td>\n",
       "      <td>70691.000000</td>\n",
       "      <td>70691.000000</td>\n",
       "      <td>70691.000000</td>\n",
       "    </tr>\n",
       "    <tr>\n",
       "      <th>mean</th>\n",
       "      <td>35345.834618</td>\n",
       "      <td>0.500007</td>\n",
       "      <td>0.563466</td>\n",
       "      <td>0.525710</td>\n",
       "      <td>0.975259</td>\n",
       "      <td>29.856995</td>\n",
       "      <td>0.475280</td>\n",
       "      <td>0.062172</td>\n",
       "      <td>0.147812</td>\n",
       "      <td>0.703032</td>\n",
       "      <td>0.611789</td>\n",
       "      <td>0.788771</td>\n",
       "      <td>0.042721</td>\n",
       "      <td>0.954959</td>\n",
       "      <td>0.093916</td>\n",
       "      <td>3.752062</td>\n",
       "      <td>5.810499</td>\n",
       "      <td>0.252734</td>\n",
       "      <td>8.584105</td>\n",
       "    </tr>\n",
       "    <tr>\n",
       "      <th>std</th>\n",
       "      <td>20407.117356</td>\n",
       "      <td>0.500004</td>\n",
       "      <td>0.495959</td>\n",
       "      <td>0.499342</td>\n",
       "      <td>0.155337</td>\n",
       "      <td>7.113991</td>\n",
       "      <td>0.499392</td>\n",
       "      <td>0.241469</td>\n",
       "      <td>0.354916</td>\n",
       "      <td>0.456926</td>\n",
       "      <td>0.487346</td>\n",
       "      <td>0.408183</td>\n",
       "      <td>0.202229</td>\n",
       "      <td>0.207396</td>\n",
       "      <td>0.291714</td>\n",
       "      <td>8.155682</td>\n",
       "      <td>10.062308</td>\n",
       "      <td>0.434583</td>\n",
       "      <td>2.852141</td>\n",
       "    </tr>\n",
       "    <tr>\n",
       "      <th>min</th>\n",
       "      <td>0.000000</td>\n",
       "      <td>0.000000</td>\n",
       "      <td>0.000000</td>\n",
       "      <td>0.000000</td>\n",
       "      <td>0.000000</td>\n",
       "      <td>12.000000</td>\n",
       "      <td>0.000000</td>\n",
       "      <td>0.000000</td>\n",
       "      <td>0.000000</td>\n",
       "      <td>0.000000</td>\n",
       "      <td>0.000000</td>\n",
       "      <td>0.000000</td>\n",
       "      <td>0.000000</td>\n",
       "      <td>0.000000</td>\n",
       "      <td>0.000000</td>\n",
       "      <td>0.000000</td>\n",
       "      <td>0.000000</td>\n",
       "      <td>0.000000</td>\n",
       "      <td>1.000000</td>\n",
       "    </tr>\n",
       "    <tr>\n",
       "      <th>25%</th>\n",
       "      <td>17673.500000</td>\n",
       "      <td>0.000000</td>\n",
       "      <td>0.000000</td>\n",
       "      <td>0.000000</td>\n",
       "      <td>1.000000</td>\n",
       "      <td>25.000000</td>\n",
       "      <td>0.000000</td>\n",
       "      <td>0.000000</td>\n",
       "      <td>0.000000</td>\n",
       "      <td>0.000000</td>\n",
       "      <td>0.000000</td>\n",
       "      <td>1.000000</td>\n",
       "      <td>0.000000</td>\n",
       "      <td>1.000000</td>\n",
       "      <td>0.000000</td>\n",
       "      <td>0.000000</td>\n",
       "      <td>0.000000</td>\n",
       "      <td>0.000000</td>\n",
       "      <td>7.000000</td>\n",
       "    </tr>\n",
       "    <tr>\n",
       "      <th>50%</th>\n",
       "      <td>35346.000000</td>\n",
       "      <td>1.000000</td>\n",
       "      <td>1.000000</td>\n",
       "      <td>1.000000</td>\n",
       "      <td>1.000000</td>\n",
       "      <td>29.000000</td>\n",
       "      <td>0.000000</td>\n",
       "      <td>0.000000</td>\n",
       "      <td>0.000000</td>\n",
       "      <td>1.000000</td>\n",
       "      <td>1.000000</td>\n",
       "      <td>1.000000</td>\n",
       "      <td>0.000000</td>\n",
       "      <td>1.000000</td>\n",
       "      <td>0.000000</td>\n",
       "      <td>0.000000</td>\n",
       "      <td>0.000000</td>\n",
       "      <td>0.000000</td>\n",
       "      <td>9.000000</td>\n",
       "    </tr>\n",
       "    <tr>\n",
       "      <th>75%</th>\n",
       "      <td>53018.500000</td>\n",
       "      <td>1.000000</td>\n",
       "      <td>1.000000</td>\n",
       "      <td>1.000000</td>\n",
       "      <td>1.000000</td>\n",
       "      <td>33.000000</td>\n",
       "      <td>1.000000</td>\n",
       "      <td>0.000000</td>\n",
       "      <td>0.000000</td>\n",
       "      <td>1.000000</td>\n",
       "      <td>1.000000</td>\n",
       "      <td>1.000000</td>\n",
       "      <td>0.000000</td>\n",
       "      <td>1.000000</td>\n",
       "      <td>0.000000</td>\n",
       "      <td>2.000000</td>\n",
       "      <td>6.000000</td>\n",
       "      <td>1.000000</td>\n",
       "      <td>11.000000</td>\n",
       "    </tr>\n",
       "    <tr>\n",
       "      <th>max</th>\n",
       "      <td>70691.000000</td>\n",
       "      <td>1.000000</td>\n",
       "      <td>1.000000</td>\n",
       "      <td>1.000000</td>\n",
       "      <td>1.000000</td>\n",
       "      <td>98.000000</td>\n",
       "      <td>1.000000</td>\n",
       "      <td>1.000000</td>\n",
       "      <td>1.000000</td>\n",
       "      <td>1.000000</td>\n",
       "      <td>1.000000</td>\n",
       "      <td>1.000000</td>\n",
       "      <td>1.000000</td>\n",
       "      <td>1.000000</td>\n",
       "      <td>1.000000</td>\n",
       "      <td>30.000000</td>\n",
       "      <td>30.000000</td>\n",
       "      <td>1.000000</td>\n",
       "      <td>13.000000</td>\n",
       "    </tr>\n",
       "  </tbody>\n",
       "</table>\n",
       "</div>\n",
       "      <button class=\"colab-df-convert\" onclick=\"convertToInteractive('df-041f85fc-f4ce-44e8-afcc-3318da1effb4')\"\n",
       "              title=\"Convert this dataframe to an interactive table.\"\n",
       "              style=\"display:none;\">\n",
       "        \n",
       "  <svg xmlns=\"http://www.w3.org/2000/svg\" height=\"24px\"viewBox=\"0 0 24 24\"\n",
       "       width=\"24px\">\n",
       "    <path d=\"M0 0h24v24H0V0z\" fill=\"none\"/>\n",
       "    <path d=\"M18.56 5.44l.94 2.06.94-2.06 2.06-.94-2.06-.94-.94-2.06-.94 2.06-2.06.94zm-11 1L8.5 8.5l.94-2.06 2.06-.94-2.06-.94L8.5 2.5l-.94 2.06-2.06.94zm10 10l.94 2.06.94-2.06 2.06-.94-2.06-.94-.94-2.06-.94 2.06-2.06.94z\"/><path d=\"M17.41 7.96l-1.37-1.37c-.4-.4-.92-.59-1.43-.59-.52 0-1.04.2-1.43.59L10.3 9.45l-7.72 7.72c-.78.78-.78 2.05 0 2.83L4 21.41c.39.39.9.59 1.41.59.51 0 1.02-.2 1.41-.59l7.78-7.78 2.81-2.81c.8-.78.8-2.07 0-2.86zM5.41 20L4 18.59l7.72-7.72 1.47 1.35L5.41 20z\"/>\n",
       "  </svg>\n",
       "      </button>\n",
       "      \n",
       "  <style>\n",
       "    .colab-df-container {\n",
       "      display:flex;\n",
       "      flex-wrap:wrap;\n",
       "      gap: 12px;\n",
       "    }\n",
       "\n",
       "    .colab-df-convert {\n",
       "      background-color: #E8F0FE;\n",
       "      border: none;\n",
       "      border-radius: 50%;\n",
       "      cursor: pointer;\n",
       "      display: none;\n",
       "      fill: #1967D2;\n",
       "      height: 32px;\n",
       "      padding: 0 0 0 0;\n",
       "      width: 32px;\n",
       "    }\n",
       "\n",
       "    .colab-df-convert:hover {\n",
       "      background-color: #E2EBFA;\n",
       "      box-shadow: 0px 1px 2px rgba(60, 64, 67, 0.3), 0px 1px 3px 1px rgba(60, 64, 67, 0.15);\n",
       "      fill: #174EA6;\n",
       "    }\n",
       "\n",
       "    [theme=dark] .colab-df-convert {\n",
       "      background-color: #3B4455;\n",
       "      fill: #D2E3FC;\n",
       "    }\n",
       "\n",
       "    [theme=dark] .colab-df-convert:hover {\n",
       "      background-color: #434B5C;\n",
       "      box-shadow: 0px 1px 3px 1px rgba(0, 0, 0, 0.15);\n",
       "      filter: drop-shadow(0px 1px 2px rgba(0, 0, 0, 0.3));\n",
       "      fill: #FFFFFF;\n",
       "    }\n",
       "  </style>\n",
       "\n",
       "      <script>\n",
       "        const buttonEl =\n",
       "          document.querySelector('#df-041f85fc-f4ce-44e8-afcc-3318da1effb4 button.colab-df-convert');\n",
       "        buttonEl.style.display =\n",
       "          google.colab.kernel.accessAllowed ? 'block' : 'none';\n",
       "\n",
       "        async function convertToInteractive(key) {\n",
       "          const element = document.querySelector('#df-041f85fc-f4ce-44e8-afcc-3318da1effb4');\n",
       "          const dataTable =\n",
       "            await google.colab.kernel.invokeFunction('convertToInteractive',\n",
       "                                                     [key], {});\n",
       "          if (!dataTable) return;\n",
       "\n",
       "          const docLinkHtml = 'Like what you see? Visit the ' +\n",
       "            '<a target=\"_blank\" href=https://colab.research.google.com/notebooks/data_table.ipynb>data table notebook</a>'\n",
       "            + ' to learn more about interactive tables.';\n",
       "          element.innerHTML = '';\n",
       "          dataTable['output_type'] = 'display_data';\n",
       "          await google.colab.output.renderOutput(dataTable, element);\n",
       "          const docLink = document.createElement('div');\n",
       "          docLink.innerHTML = docLinkHtml;\n",
       "          element.appendChild(docLink);\n",
       "        }\n",
       "      </script>\n",
       "    </div>\n",
       "  </div>\n",
       "  "
      ],
      "text/plain": [
       "         Unnamed:_0  Diabetes_binary        HighBP  High_Cholesterol  \\\n",
       "count  70691.000000     70691.000000  70691.000000      70691.000000   \n",
       "mean   35345.834618         0.500007      0.563466          0.525710   \n",
       "std    20407.117356         0.500004      0.495959          0.499342   \n",
       "min        0.000000         0.000000      0.000000          0.000000   \n",
       "25%    17673.500000         0.000000      0.000000          0.000000   \n",
       "50%    35346.000000         1.000000      1.000000          1.000000   \n",
       "75%    53018.500000         1.000000      1.000000          1.000000   \n",
       "max    70691.000000         1.000000      1.000000          1.000000   \n",
       "\n",
       "       Cholesterol_Check           BMI        Smoker        Stroke  \\\n",
       "count       70691.000000  70691.000000  70691.000000  70691.000000   \n",
       "mean            0.975259     29.856995      0.475280      0.062172   \n",
       "std             0.155337      7.113991      0.499392      0.241469   \n",
       "min             0.000000     12.000000      0.000000      0.000000   \n",
       "25%             1.000000     25.000000      0.000000      0.000000   \n",
       "50%             1.000000     29.000000      0.000000      0.000000   \n",
       "75%             1.000000     33.000000      1.000000      0.000000   \n",
       "max             1.000000     98.000000      1.000000      1.000000   \n",
       "\n",
       "       HeartDiseaseorAttack  Physical_Activity        Fruits       Veggies  \\\n",
       "count          70691.000000       70691.000000  70691.000000  70691.000000   \n",
       "mean               0.147812           0.703032      0.611789      0.788771   \n",
       "std                0.354916           0.456926      0.487346      0.408183   \n",
       "min                0.000000           0.000000      0.000000      0.000000   \n",
       "25%                0.000000           0.000000      0.000000      1.000000   \n",
       "50%                0.000000           1.000000      1.000000      1.000000   \n",
       "75%                0.000000           1.000000      1.000000      1.000000   \n",
       "max                1.000000           1.000000      1.000000      1.000000   \n",
       "\n",
       "       Heavy_Alcohol_Consumption  Any_Health_Care  No_Doctor_because_of_Cost  \\\n",
       "count               70691.000000     70691.000000               70691.000000   \n",
       "mean                    0.042721         0.954959                   0.093916   \n",
       "std                     0.202229         0.207396                   0.291714   \n",
       "min                     0.000000         0.000000                   0.000000   \n",
       "25%                     0.000000         1.000000                   0.000000   \n",
       "50%                     0.000000         1.000000                   0.000000   \n",
       "75%                     0.000000         1.000000                   0.000000   \n",
       "max                     1.000000         1.000000                   1.000000   \n",
       "\n",
       "       Mental_Health  Physical_Health  Difficulty_Walking           Age  \n",
       "count   70691.000000     70691.000000        70691.000000  70691.000000  \n",
       "mean        3.752062         5.810499            0.252734      8.584105  \n",
       "std         8.155682        10.062308            0.434583      2.852141  \n",
       "min         0.000000         0.000000            0.000000      1.000000  \n",
       "25%         0.000000         0.000000            0.000000      7.000000  \n",
       "50%         0.000000         0.000000            0.000000      9.000000  \n",
       "75%         2.000000         6.000000            1.000000     11.000000  \n",
       "max        30.000000        30.000000            1.000000     13.000000  "
      ]
     },
     "execution_count": 12,
     "metadata": {},
     "output_type": "execute_result"
    }
   ],
   "source": [
    "df.describe()"
   ]
  },
  {
   "cell_type": "markdown",
   "id": "a86fe3e9",
   "metadata": {
    "id": "a86fe3e9"
   },
   "source": [
    "<font color='blue'>\n",
    "    BMI, Mental Health, Physical Health and Age need to me normalized due to their broad range\n",
    "</font>"
   ]
  },
  {
   "cell_type": "markdown",
   "id": "a32bf4c0",
   "metadata": {
    "id": "a32bf4c0"
   },
   "source": [
    "### BMI"
   ]
  },
  {
   "cell_type": "markdown",
   "id": "iFfSl95DOxRD",
   "metadata": {
    "id": "iFfSl95DOxRD"
   },
   "source": [
    "<font color='blue'>\n",
    "    We categorize BMI into 7 sections based on the standard BMI categotization. By doing so we have a normalized range of vlues\n",
    "</font>"
   ]
  },
  {
   "cell_type": "code",
   "execution_count": null,
   "id": "9e2c6ac2",
   "metadata": {
    "colab": {
     "base_uri": "https://localhost:8080/"
    },
    "id": "9e2c6ac2",
    "outputId": "df830e49-ea52-40e8-86e9-97e6041765f9"
   },
   "outputs": [
    {
     "data": {
      "text/plain": [
       "0        4.0\n",
       "1        4.0\n",
       "2        4.0\n",
       "3        4.0\n",
       "4        4.0\n",
       "        ... \n",
       "70687    6.0\n",
       "70688    4.0\n",
       "70689    3.0\n",
       "70690    2.0\n",
       "70691    3.0\n",
       "Name: BMI, Length: 70691, dtype: float64"
      ]
     },
     "execution_count": 13,
     "metadata": {},
     "output_type": "execute_result"
    }
   ],
   "source": [
    "df['BMI'] = pd.cut(df['BMI'], (0, 16, 18.5, 25, 30, 35, 40, np.inf), labels=[1, 2, 3, 4, 5, 6, 7]).astype('float')\n",
    "df['BMI']"
   ]
  },
  {
   "cell_type": "markdown",
   "id": "6a448a30",
   "metadata": {
    "id": "6a448a30"
   },
   "source": [
    "### Mental Health, Physical Health, Age"
   ]
  },
  {
   "cell_type": "markdown",
   "id": "Sm2L0NckPMec",
   "metadata": {
    "id": "Sm2L0NckPMec"
   },
   "source": [
    "<font color='blue'>\n",
    "    These columns contain values ranging from 0 to 30 or 13 for Age. I used min-max normalization to change their range into 0-1 so that the whole dataset is unified.\n",
    "</font>"
   ]
  },
  {
   "cell_type": "code",
   "execution_count": null,
   "id": "e2721337",
   "metadata": {
    "id": "e2721337"
   },
   "outputs": [],
   "source": [
    "df['Mental_Health'] = (df['Mental_Health']-df['Mental_Health'].min())/(df['Mental_Health'].max()-df['Mental_Health'].min())\n",
    "df['Physical_Health'] = (df['Physical_Health']-df['Physical_Health'].min())/(df['Physical_Health'].max()-df['Physical_Health'].min())\n",
    "df['Age'] = (df['Age']-df['Age'].min())/(df['Age'].max()-df['Age'].min())\n"
   ]
  },
  {
   "cell_type": "code",
   "execution_count": null,
   "id": "5d198f06",
   "metadata": {
    "colab": {
     "base_uri": "https://localhost:8080/",
     "height": 364
    },
    "id": "5d198f06",
    "outputId": "9d7bbcb9-f90c-4b56-ff10-788f6a4faf29"
   },
   "outputs": [
    {
     "data": {
      "text/html": [
       "\n",
       "  <div id=\"df-b71f1588-d480-4e26-ad9a-2d1c9771bb37\">\n",
       "    <div class=\"colab-df-container\">\n",
       "      <div>\n",
       "<style scoped>\n",
       "    .dataframe tbody tr th:only-of-type {\n",
       "        vertical-align: middle;\n",
       "    }\n",
       "\n",
       "    .dataframe tbody tr th {\n",
       "        vertical-align: top;\n",
       "    }\n",
       "\n",
       "    .dataframe thead th {\n",
       "        text-align: right;\n",
       "    }\n",
       "</style>\n",
       "<table border=\"1\" class=\"dataframe\">\n",
       "  <thead>\n",
       "    <tr style=\"text-align: right;\">\n",
       "      <th></th>\n",
       "      <th>Unnamed:_0</th>\n",
       "      <th>Diabetes_binary</th>\n",
       "      <th>HighBP</th>\n",
       "      <th>High_Cholesterol</th>\n",
       "      <th>Cholesterol_Check</th>\n",
       "      <th>BMI</th>\n",
       "      <th>Smoker</th>\n",
       "      <th>Stroke</th>\n",
       "      <th>HeartDiseaseorAttack</th>\n",
       "      <th>Physical_Activity</th>\n",
       "      <th>Fruits</th>\n",
       "      <th>Veggies</th>\n",
       "      <th>Heavy_Alcohol_Consumption</th>\n",
       "      <th>Any_Health_Care</th>\n",
       "      <th>No_Doctor_because_of_Cost</th>\n",
       "      <th>Mental_Health</th>\n",
       "      <th>Physical_Health</th>\n",
       "      <th>Difficulty_Walking</th>\n",
       "      <th>Age</th>\n",
       "    </tr>\n",
       "  </thead>\n",
       "  <tbody>\n",
       "    <tr>\n",
       "      <th>count</th>\n",
       "      <td>70691.000000</td>\n",
       "      <td>70691.000000</td>\n",
       "      <td>70691.000000</td>\n",
       "      <td>70691.000000</td>\n",
       "      <td>70691.000000</td>\n",
       "      <td>70691.000000</td>\n",
       "      <td>70691.000000</td>\n",
       "      <td>70691.000000</td>\n",
       "      <td>70691.000000</td>\n",
       "      <td>70691.000000</td>\n",
       "      <td>70691.000000</td>\n",
       "      <td>70691.000000</td>\n",
       "      <td>70691.000000</td>\n",
       "      <td>70691.000000</td>\n",
       "      <td>70691.000000</td>\n",
       "      <td>70691.000000</td>\n",
       "      <td>70691.000000</td>\n",
       "      <td>70691.000000</td>\n",
       "      <td>70691.000000</td>\n",
       "    </tr>\n",
       "    <tr>\n",
       "      <th>mean</th>\n",
       "      <td>35345.834618</td>\n",
       "      <td>0.500007</td>\n",
       "      <td>0.563466</td>\n",
       "      <td>0.525710</td>\n",
       "      <td>0.975259</td>\n",
       "      <td>4.343495</td>\n",
       "      <td>0.475280</td>\n",
       "      <td>0.062172</td>\n",
       "      <td>0.147812</td>\n",
       "      <td>0.703032</td>\n",
       "      <td>0.611789</td>\n",
       "      <td>0.788771</td>\n",
       "      <td>0.042721</td>\n",
       "      <td>0.954959</td>\n",
       "      <td>0.093916</td>\n",
       "      <td>0.125069</td>\n",
       "      <td>0.193683</td>\n",
       "      <td>0.252734</td>\n",
       "      <td>0.632009</td>\n",
       "    </tr>\n",
       "    <tr>\n",
       "      <th>std</th>\n",
       "      <td>20407.117356</td>\n",
       "      <td>0.500004</td>\n",
       "      <td>0.495959</td>\n",
       "      <td>0.499342</td>\n",
       "      <td>0.155337</td>\n",
       "      <td>1.200387</td>\n",
       "      <td>0.499392</td>\n",
       "      <td>0.241469</td>\n",
       "      <td>0.354916</td>\n",
       "      <td>0.456926</td>\n",
       "      <td>0.487346</td>\n",
       "      <td>0.408183</td>\n",
       "      <td>0.202229</td>\n",
       "      <td>0.207396</td>\n",
       "      <td>0.291714</td>\n",
       "      <td>0.271856</td>\n",
       "      <td>0.335410</td>\n",
       "      <td>0.434583</td>\n",
       "      <td>0.237678</td>\n",
       "    </tr>\n",
       "    <tr>\n",
       "      <th>min</th>\n",
       "      <td>0.000000</td>\n",
       "      <td>0.000000</td>\n",
       "      <td>0.000000</td>\n",
       "      <td>0.000000</td>\n",
       "      <td>0.000000</td>\n",
       "      <td>1.000000</td>\n",
       "      <td>0.000000</td>\n",
       "      <td>0.000000</td>\n",
       "      <td>0.000000</td>\n",
       "      <td>0.000000</td>\n",
       "      <td>0.000000</td>\n",
       "      <td>0.000000</td>\n",
       "      <td>0.000000</td>\n",
       "      <td>0.000000</td>\n",
       "      <td>0.000000</td>\n",
       "      <td>0.000000</td>\n",
       "      <td>0.000000</td>\n",
       "      <td>0.000000</td>\n",
       "      <td>0.000000</td>\n",
       "    </tr>\n",
       "    <tr>\n",
       "      <th>25%</th>\n",
       "      <td>17673.500000</td>\n",
       "      <td>0.000000</td>\n",
       "      <td>0.000000</td>\n",
       "      <td>0.000000</td>\n",
       "      <td>1.000000</td>\n",
       "      <td>3.000000</td>\n",
       "      <td>0.000000</td>\n",
       "      <td>0.000000</td>\n",
       "      <td>0.000000</td>\n",
       "      <td>0.000000</td>\n",
       "      <td>0.000000</td>\n",
       "      <td>1.000000</td>\n",
       "      <td>0.000000</td>\n",
       "      <td>1.000000</td>\n",
       "      <td>0.000000</td>\n",
       "      <td>0.000000</td>\n",
       "      <td>0.000000</td>\n",
       "      <td>0.000000</td>\n",
       "      <td>0.500000</td>\n",
       "    </tr>\n",
       "    <tr>\n",
       "      <th>50%</th>\n",
       "      <td>35346.000000</td>\n",
       "      <td>1.000000</td>\n",
       "      <td>1.000000</td>\n",
       "      <td>1.000000</td>\n",
       "      <td>1.000000</td>\n",
       "      <td>4.000000</td>\n",
       "      <td>0.000000</td>\n",
       "      <td>0.000000</td>\n",
       "      <td>0.000000</td>\n",
       "      <td>1.000000</td>\n",
       "      <td>1.000000</td>\n",
       "      <td>1.000000</td>\n",
       "      <td>0.000000</td>\n",
       "      <td>1.000000</td>\n",
       "      <td>0.000000</td>\n",
       "      <td>0.000000</td>\n",
       "      <td>0.000000</td>\n",
       "      <td>0.000000</td>\n",
       "      <td>0.666667</td>\n",
       "    </tr>\n",
       "    <tr>\n",
       "      <th>75%</th>\n",
       "      <td>53018.500000</td>\n",
       "      <td>1.000000</td>\n",
       "      <td>1.000000</td>\n",
       "      <td>1.000000</td>\n",
       "      <td>1.000000</td>\n",
       "      <td>5.000000</td>\n",
       "      <td>1.000000</td>\n",
       "      <td>0.000000</td>\n",
       "      <td>0.000000</td>\n",
       "      <td>1.000000</td>\n",
       "      <td>1.000000</td>\n",
       "      <td>1.000000</td>\n",
       "      <td>0.000000</td>\n",
       "      <td>1.000000</td>\n",
       "      <td>0.000000</td>\n",
       "      <td>0.066667</td>\n",
       "      <td>0.200000</td>\n",
       "      <td>1.000000</td>\n",
       "      <td>0.833333</td>\n",
       "    </tr>\n",
       "    <tr>\n",
       "      <th>max</th>\n",
       "      <td>70691.000000</td>\n",
       "      <td>1.000000</td>\n",
       "      <td>1.000000</td>\n",
       "      <td>1.000000</td>\n",
       "      <td>1.000000</td>\n",
       "      <td>7.000000</td>\n",
       "      <td>1.000000</td>\n",
       "      <td>1.000000</td>\n",
       "      <td>1.000000</td>\n",
       "      <td>1.000000</td>\n",
       "      <td>1.000000</td>\n",
       "      <td>1.000000</td>\n",
       "      <td>1.000000</td>\n",
       "      <td>1.000000</td>\n",
       "      <td>1.000000</td>\n",
       "      <td>1.000000</td>\n",
       "      <td>1.000000</td>\n",
       "      <td>1.000000</td>\n",
       "      <td>1.000000</td>\n",
       "    </tr>\n",
       "  </tbody>\n",
       "</table>\n",
       "</div>\n",
       "      <button class=\"colab-df-convert\" onclick=\"convertToInteractive('df-b71f1588-d480-4e26-ad9a-2d1c9771bb37')\"\n",
       "              title=\"Convert this dataframe to an interactive table.\"\n",
       "              style=\"display:none;\">\n",
       "        \n",
       "  <svg xmlns=\"http://www.w3.org/2000/svg\" height=\"24px\"viewBox=\"0 0 24 24\"\n",
       "       width=\"24px\">\n",
       "    <path d=\"M0 0h24v24H0V0z\" fill=\"none\"/>\n",
       "    <path d=\"M18.56 5.44l.94 2.06.94-2.06 2.06-.94-2.06-.94-.94-2.06-.94 2.06-2.06.94zm-11 1L8.5 8.5l.94-2.06 2.06-.94-2.06-.94L8.5 2.5l-.94 2.06-2.06.94zm10 10l.94 2.06.94-2.06 2.06-.94-2.06-.94-.94-2.06-.94 2.06-2.06.94z\"/><path d=\"M17.41 7.96l-1.37-1.37c-.4-.4-.92-.59-1.43-.59-.52 0-1.04.2-1.43.59L10.3 9.45l-7.72 7.72c-.78.78-.78 2.05 0 2.83L4 21.41c.39.39.9.59 1.41.59.51 0 1.02-.2 1.41-.59l7.78-7.78 2.81-2.81c.8-.78.8-2.07 0-2.86zM5.41 20L4 18.59l7.72-7.72 1.47 1.35L5.41 20z\"/>\n",
       "  </svg>\n",
       "      </button>\n",
       "      \n",
       "  <style>\n",
       "    .colab-df-container {\n",
       "      display:flex;\n",
       "      flex-wrap:wrap;\n",
       "      gap: 12px;\n",
       "    }\n",
       "\n",
       "    .colab-df-convert {\n",
       "      background-color: #E8F0FE;\n",
       "      border: none;\n",
       "      border-radius: 50%;\n",
       "      cursor: pointer;\n",
       "      display: none;\n",
       "      fill: #1967D2;\n",
       "      height: 32px;\n",
       "      padding: 0 0 0 0;\n",
       "      width: 32px;\n",
       "    }\n",
       "\n",
       "    .colab-df-convert:hover {\n",
       "      background-color: #E2EBFA;\n",
       "      box-shadow: 0px 1px 2px rgba(60, 64, 67, 0.3), 0px 1px 3px 1px rgba(60, 64, 67, 0.15);\n",
       "      fill: #174EA6;\n",
       "    }\n",
       "\n",
       "    [theme=dark] .colab-df-convert {\n",
       "      background-color: #3B4455;\n",
       "      fill: #D2E3FC;\n",
       "    }\n",
       "\n",
       "    [theme=dark] .colab-df-convert:hover {\n",
       "      background-color: #434B5C;\n",
       "      box-shadow: 0px 1px 3px 1px rgba(0, 0, 0, 0.15);\n",
       "      filter: drop-shadow(0px 1px 2px rgba(0, 0, 0, 0.3));\n",
       "      fill: #FFFFFF;\n",
       "    }\n",
       "  </style>\n",
       "\n",
       "      <script>\n",
       "        const buttonEl =\n",
       "          document.querySelector('#df-b71f1588-d480-4e26-ad9a-2d1c9771bb37 button.colab-df-convert');\n",
       "        buttonEl.style.display =\n",
       "          google.colab.kernel.accessAllowed ? 'block' : 'none';\n",
       "\n",
       "        async function convertToInteractive(key) {\n",
       "          const element = document.querySelector('#df-b71f1588-d480-4e26-ad9a-2d1c9771bb37');\n",
       "          const dataTable =\n",
       "            await google.colab.kernel.invokeFunction('convertToInteractive',\n",
       "                                                     [key], {});\n",
       "          if (!dataTable) return;\n",
       "\n",
       "          const docLinkHtml = 'Like what you see? Visit the ' +\n",
       "            '<a target=\"_blank\" href=https://colab.research.google.com/notebooks/data_table.ipynb>data table notebook</a>'\n",
       "            + ' to learn more about interactive tables.';\n",
       "          element.innerHTML = '';\n",
       "          dataTable['output_type'] = 'display_data';\n",
       "          await google.colab.output.renderOutput(dataTable, element);\n",
       "          const docLink = document.createElement('div');\n",
       "          docLink.innerHTML = docLinkHtml;\n",
       "          element.appendChild(docLink);\n",
       "        }\n",
       "      </script>\n",
       "    </div>\n",
       "  </div>\n",
       "  "
      ],
      "text/plain": [
       "         Unnamed:_0  Diabetes_binary        HighBP  High_Cholesterol  \\\n",
       "count  70691.000000     70691.000000  70691.000000      70691.000000   \n",
       "mean   35345.834618         0.500007      0.563466          0.525710   \n",
       "std    20407.117356         0.500004      0.495959          0.499342   \n",
       "min        0.000000         0.000000      0.000000          0.000000   \n",
       "25%    17673.500000         0.000000      0.000000          0.000000   \n",
       "50%    35346.000000         1.000000      1.000000          1.000000   \n",
       "75%    53018.500000         1.000000      1.000000          1.000000   \n",
       "max    70691.000000         1.000000      1.000000          1.000000   \n",
       "\n",
       "       Cholesterol_Check           BMI        Smoker        Stroke  \\\n",
       "count       70691.000000  70691.000000  70691.000000  70691.000000   \n",
       "mean            0.975259      4.343495      0.475280      0.062172   \n",
       "std             0.155337      1.200387      0.499392      0.241469   \n",
       "min             0.000000      1.000000      0.000000      0.000000   \n",
       "25%             1.000000      3.000000      0.000000      0.000000   \n",
       "50%             1.000000      4.000000      0.000000      0.000000   \n",
       "75%             1.000000      5.000000      1.000000      0.000000   \n",
       "max             1.000000      7.000000      1.000000      1.000000   \n",
       "\n",
       "       HeartDiseaseorAttack  Physical_Activity        Fruits       Veggies  \\\n",
       "count          70691.000000       70691.000000  70691.000000  70691.000000   \n",
       "mean               0.147812           0.703032      0.611789      0.788771   \n",
       "std                0.354916           0.456926      0.487346      0.408183   \n",
       "min                0.000000           0.000000      0.000000      0.000000   \n",
       "25%                0.000000           0.000000      0.000000      1.000000   \n",
       "50%                0.000000           1.000000      1.000000      1.000000   \n",
       "75%                0.000000           1.000000      1.000000      1.000000   \n",
       "max                1.000000           1.000000      1.000000      1.000000   \n",
       "\n",
       "       Heavy_Alcohol_Consumption  Any_Health_Care  No_Doctor_because_of_Cost  \\\n",
       "count               70691.000000     70691.000000               70691.000000   \n",
       "mean                    0.042721         0.954959                   0.093916   \n",
       "std                     0.202229         0.207396                   0.291714   \n",
       "min                     0.000000         0.000000                   0.000000   \n",
       "25%                     0.000000         1.000000                   0.000000   \n",
       "50%                     0.000000         1.000000                   0.000000   \n",
       "75%                     0.000000         1.000000                   0.000000   \n",
       "max                     1.000000         1.000000                   1.000000   \n",
       "\n",
       "       Mental_Health  Physical_Health  Difficulty_Walking           Age  \n",
       "count   70691.000000     70691.000000        70691.000000  70691.000000  \n",
       "mean        0.125069         0.193683            0.252734      0.632009  \n",
       "std         0.271856         0.335410            0.434583      0.237678  \n",
       "min         0.000000         0.000000            0.000000      0.000000  \n",
       "25%         0.000000         0.000000            0.000000      0.500000  \n",
       "50%         0.000000         0.000000            0.000000      0.666667  \n",
       "75%         0.066667         0.200000            1.000000      0.833333  \n",
       "max         1.000000         1.000000            1.000000      1.000000  "
      ]
     },
     "execution_count": 15,
     "metadata": {},
     "output_type": "execute_result"
    }
   ],
   "source": [
    "df.describe()"
   ]
  },
  {
   "cell_type": "markdown",
   "id": "5facb253",
   "metadata": {
    "id": "5facb253"
   },
   "source": [
    "## One-Hot-Encode Categorical Values"
   ]
  },
  {
   "cell_type": "code",
   "execution_count": null,
   "id": "2b61e34d",
   "metadata": {
    "id": "2b61e34d"
   },
   "outputs": [],
   "source": [
    "categorical = ['General_Health','Sex', 'Education', 'Income']"
   ]
  },
  {
   "cell_type": "markdown",
   "id": "SGDMPyTtPlxm",
   "metadata": {
    "id": "SGDMPyTtPlxm"
   },
   "source": [
    "<font color='blue'>\n",
    "    These 4 columns appear in categorical forms. we have to change them into one-hot encoding\n",
    "</font>"
   ]
  },
  {
   "cell_type": "code",
   "execution_count": null,
   "id": "4bead25a",
   "metadata": {
    "id": "4bead25a"
   },
   "outputs": [],
   "source": [
    "df = pd.get_dummies(df, columns=categorical)"
   ]
  },
  {
   "cell_type": "code",
   "execution_count": null,
   "id": "e2c0e75a",
   "metadata": {
    "colab": {
     "base_uri": "https://localhost:8080/",
     "height": 488
    },
    "id": "e2c0e75a",
    "outputId": "478f6f1b-ea98-4a77-ca5d-460aaa34df98"
   },
   "outputs": [
    {
     "data": {
      "text/html": [
       "\n",
       "  <div id=\"df-0c1cbffe-db46-4cd0-b642-3c7f22a82b09\">\n",
       "    <div class=\"colab-df-container\">\n",
       "      <div>\n",
       "<style scoped>\n",
       "    .dataframe tbody tr th:only-of-type {\n",
       "        vertical-align: middle;\n",
       "    }\n",
       "\n",
       "    .dataframe tbody tr th {\n",
       "        vertical-align: top;\n",
       "    }\n",
       "\n",
       "    .dataframe thead th {\n",
       "        text-align: right;\n",
       "    }\n",
       "</style>\n",
       "<table border=\"1\" class=\"dataframe\">\n",
       "  <thead>\n",
       "    <tr style=\"text-align: right;\">\n",
       "      <th></th>\n",
       "      <th>Unnamed:_0</th>\n",
       "      <th>Diabetes_binary</th>\n",
       "      <th>HighBP</th>\n",
       "      <th>High_Cholesterol</th>\n",
       "      <th>Cholesterol_Check</th>\n",
       "      <th>BMI</th>\n",
       "      <th>Smoker</th>\n",
       "      <th>Stroke</th>\n",
       "      <th>HeartDiseaseorAttack</th>\n",
       "      <th>Physical_Activity</th>\n",
       "      <th>...</th>\n",
       "      <th>Education_Cat5</th>\n",
       "      <th>Education_Cat6</th>\n",
       "      <th>Income_Cat1</th>\n",
       "      <th>Income_Cat2</th>\n",
       "      <th>Income_Cat3</th>\n",
       "      <th>Income_Cat4</th>\n",
       "      <th>Income_Cat5</th>\n",
       "      <th>Income_Cat6</th>\n",
       "      <th>Income_Cat7</th>\n",
       "      <th>Income_Cat8</th>\n",
       "    </tr>\n",
       "  </thead>\n",
       "  <tbody>\n",
       "    <tr>\n",
       "      <th>0</th>\n",
       "      <td>0</td>\n",
       "      <td>0.0</td>\n",
       "      <td>1.0</td>\n",
       "      <td>0.0</td>\n",
       "      <td>1.0</td>\n",
       "      <td>4.0</td>\n",
       "      <td>0.0</td>\n",
       "      <td>0.0</td>\n",
       "      <td>0.0</td>\n",
       "      <td>1.0</td>\n",
       "      <td>...</td>\n",
       "      <td>0</td>\n",
       "      <td>1</td>\n",
       "      <td>0</td>\n",
       "      <td>0</td>\n",
       "      <td>0</td>\n",
       "      <td>0</td>\n",
       "      <td>0</td>\n",
       "      <td>0</td>\n",
       "      <td>0</td>\n",
       "      <td>1</td>\n",
       "    </tr>\n",
       "    <tr>\n",
       "      <th>1</th>\n",
       "      <td>1</td>\n",
       "      <td>0.0</td>\n",
       "      <td>1.0</td>\n",
       "      <td>1.0</td>\n",
       "      <td>1.0</td>\n",
       "      <td>4.0</td>\n",
       "      <td>1.0</td>\n",
       "      <td>1.0</td>\n",
       "      <td>0.0</td>\n",
       "      <td>0.0</td>\n",
       "      <td>...</td>\n",
       "      <td>0</td>\n",
       "      <td>1</td>\n",
       "      <td>0</td>\n",
       "      <td>0</td>\n",
       "      <td>0</td>\n",
       "      <td>0</td>\n",
       "      <td>0</td>\n",
       "      <td>0</td>\n",
       "      <td>0</td>\n",
       "      <td>1</td>\n",
       "    </tr>\n",
       "    <tr>\n",
       "      <th>2</th>\n",
       "      <td>2</td>\n",
       "      <td>0.0</td>\n",
       "      <td>0.0</td>\n",
       "      <td>0.0</td>\n",
       "      <td>1.0</td>\n",
       "      <td>4.0</td>\n",
       "      <td>0.0</td>\n",
       "      <td>0.0</td>\n",
       "      <td>0.0</td>\n",
       "      <td>1.0</td>\n",
       "      <td>...</td>\n",
       "      <td>0</td>\n",
       "      <td>1</td>\n",
       "      <td>0</td>\n",
       "      <td>0</td>\n",
       "      <td>0</td>\n",
       "      <td>0</td>\n",
       "      <td>0</td>\n",
       "      <td>0</td>\n",
       "      <td>0</td>\n",
       "      <td>1</td>\n",
       "    </tr>\n",
       "    <tr>\n",
       "      <th>3</th>\n",
       "      <td>3</td>\n",
       "      <td>0.0</td>\n",
       "      <td>1.0</td>\n",
       "      <td>1.0</td>\n",
       "      <td>1.0</td>\n",
       "      <td>4.0</td>\n",
       "      <td>1.0</td>\n",
       "      <td>0.0</td>\n",
       "      <td>0.0</td>\n",
       "      <td>1.0</td>\n",
       "      <td>...</td>\n",
       "      <td>0</td>\n",
       "      <td>1</td>\n",
       "      <td>0</td>\n",
       "      <td>0</td>\n",
       "      <td>0</td>\n",
       "      <td>0</td>\n",
       "      <td>0</td>\n",
       "      <td>0</td>\n",
       "      <td>0</td>\n",
       "      <td>1</td>\n",
       "    </tr>\n",
       "    <tr>\n",
       "      <th>4</th>\n",
       "      <td>4</td>\n",
       "      <td>0.0</td>\n",
       "      <td>0.0</td>\n",
       "      <td>0.0</td>\n",
       "      <td>1.0</td>\n",
       "      <td>4.0</td>\n",
       "      <td>1.0</td>\n",
       "      <td>0.0</td>\n",
       "      <td>0.0</td>\n",
       "      <td>1.0</td>\n",
       "      <td>...</td>\n",
       "      <td>1</td>\n",
       "      <td>0</td>\n",
       "      <td>0</td>\n",
       "      <td>0</td>\n",
       "      <td>0</td>\n",
       "      <td>0</td>\n",
       "      <td>0</td>\n",
       "      <td>0</td>\n",
       "      <td>0</td>\n",
       "      <td>1</td>\n",
       "    </tr>\n",
       "    <tr>\n",
       "      <th>...</th>\n",
       "      <td>...</td>\n",
       "      <td>...</td>\n",
       "      <td>...</td>\n",
       "      <td>...</td>\n",
       "      <td>...</td>\n",
       "      <td>...</td>\n",
       "      <td>...</td>\n",
       "      <td>...</td>\n",
       "      <td>...</td>\n",
       "      <td>...</td>\n",
       "      <td>...</td>\n",
       "      <td>...</td>\n",
       "      <td>...</td>\n",
       "      <td>...</td>\n",
       "      <td>...</td>\n",
       "      <td>...</td>\n",
       "      <td>...</td>\n",
       "      <td>...</td>\n",
       "      <td>...</td>\n",
       "      <td>...</td>\n",
       "      <td>...</td>\n",
       "    </tr>\n",
       "    <tr>\n",
       "      <th>70687</th>\n",
       "      <td>70687</td>\n",
       "      <td>1.0</td>\n",
       "      <td>0.0</td>\n",
       "      <td>1.0</td>\n",
       "      <td>1.0</td>\n",
       "      <td>6.0</td>\n",
       "      <td>0.0</td>\n",
       "      <td>0.0</td>\n",
       "      <td>0.0</td>\n",
       "      <td>0.0</td>\n",
       "      <td>...</td>\n",
       "      <td>0</td>\n",
       "      <td>0</td>\n",
       "      <td>1</td>\n",
       "      <td>0</td>\n",
       "      <td>0</td>\n",
       "      <td>0</td>\n",
       "      <td>0</td>\n",
       "      <td>0</td>\n",
       "      <td>0</td>\n",
       "      <td>0</td>\n",
       "    </tr>\n",
       "    <tr>\n",
       "      <th>70688</th>\n",
       "      <td>70688</td>\n",
       "      <td>1.0</td>\n",
       "      <td>0.0</td>\n",
       "      <td>1.0</td>\n",
       "      <td>1.0</td>\n",
       "      <td>4.0</td>\n",
       "      <td>1.0</td>\n",
       "      <td>0.0</td>\n",
       "      <td>1.0</td>\n",
       "      <td>0.0</td>\n",
       "      <td>...</td>\n",
       "      <td>0</td>\n",
       "      <td>0</td>\n",
       "      <td>0</td>\n",
       "      <td>0</td>\n",
       "      <td>0</td>\n",
       "      <td>0</td>\n",
       "      <td>0</td>\n",
       "      <td>1</td>\n",
       "      <td>0</td>\n",
       "      <td>0</td>\n",
       "    </tr>\n",
       "    <tr>\n",
       "      <th>70689</th>\n",
       "      <td>70689</td>\n",
       "      <td>1.0</td>\n",
       "      <td>1.0</td>\n",
       "      <td>1.0</td>\n",
       "      <td>1.0</td>\n",
       "      <td>3.0</td>\n",
       "      <td>0.0</td>\n",
       "      <td>0.0</td>\n",
       "      <td>1.0</td>\n",
       "      <td>0.0</td>\n",
       "      <td>...</td>\n",
       "      <td>0</td>\n",
       "      <td>1</td>\n",
       "      <td>0</td>\n",
       "      <td>0</td>\n",
       "      <td>0</td>\n",
       "      <td>1</td>\n",
       "      <td>0</td>\n",
       "      <td>0</td>\n",
       "      <td>0</td>\n",
       "      <td>0</td>\n",
       "    </tr>\n",
       "    <tr>\n",
       "      <th>70690</th>\n",
       "      <td>70690</td>\n",
       "      <td>1.0</td>\n",
       "      <td>1.0</td>\n",
       "      <td>1.0</td>\n",
       "      <td>1.0</td>\n",
       "      <td>2.0</td>\n",
       "      <td>0.0</td>\n",
       "      <td>0.0</td>\n",
       "      <td>0.0</td>\n",
       "      <td>0.0</td>\n",
       "      <td>...</td>\n",
       "      <td>0</td>\n",
       "      <td>0</td>\n",
       "      <td>0</td>\n",
       "      <td>0</td>\n",
       "      <td>0</td>\n",
       "      <td>1</td>\n",
       "      <td>0</td>\n",
       "      <td>0</td>\n",
       "      <td>0</td>\n",
       "      <td>0</td>\n",
       "    </tr>\n",
       "    <tr>\n",
       "      <th>70691</th>\n",
       "      <td>70691</td>\n",
       "      <td>1.0</td>\n",
       "      <td>1.0</td>\n",
       "      <td>1.0</td>\n",
       "      <td>1.0</td>\n",
       "      <td>3.0</td>\n",
       "      <td>0.0</td>\n",
       "      <td>0.0</td>\n",
       "      <td>1.0</td>\n",
       "      <td>1.0</td>\n",
       "      <td>...</td>\n",
       "      <td>0</td>\n",
       "      <td>1</td>\n",
       "      <td>0</td>\n",
       "      <td>1</td>\n",
       "      <td>0</td>\n",
       "      <td>0</td>\n",
       "      <td>0</td>\n",
       "      <td>0</td>\n",
       "      <td>0</td>\n",
       "      <td>0</td>\n",
       "    </tr>\n",
       "  </tbody>\n",
       "</table>\n",
       "<p>70691 rows × 40 columns</p>\n",
       "</div>\n",
       "      <button class=\"colab-df-convert\" onclick=\"convertToInteractive('df-0c1cbffe-db46-4cd0-b642-3c7f22a82b09')\"\n",
       "              title=\"Convert this dataframe to an interactive table.\"\n",
       "              style=\"display:none;\">\n",
       "        \n",
       "  <svg xmlns=\"http://www.w3.org/2000/svg\" height=\"24px\"viewBox=\"0 0 24 24\"\n",
       "       width=\"24px\">\n",
       "    <path d=\"M0 0h24v24H0V0z\" fill=\"none\"/>\n",
       "    <path d=\"M18.56 5.44l.94 2.06.94-2.06 2.06-.94-2.06-.94-.94-2.06-.94 2.06-2.06.94zm-11 1L8.5 8.5l.94-2.06 2.06-.94-2.06-.94L8.5 2.5l-.94 2.06-2.06.94zm10 10l.94 2.06.94-2.06 2.06-.94-2.06-.94-.94-2.06-.94 2.06-2.06.94z\"/><path d=\"M17.41 7.96l-1.37-1.37c-.4-.4-.92-.59-1.43-.59-.52 0-1.04.2-1.43.59L10.3 9.45l-7.72 7.72c-.78.78-.78 2.05 0 2.83L4 21.41c.39.39.9.59 1.41.59.51 0 1.02-.2 1.41-.59l7.78-7.78 2.81-2.81c.8-.78.8-2.07 0-2.86zM5.41 20L4 18.59l7.72-7.72 1.47 1.35L5.41 20z\"/>\n",
       "  </svg>\n",
       "      </button>\n",
       "      \n",
       "  <style>\n",
       "    .colab-df-container {\n",
       "      display:flex;\n",
       "      flex-wrap:wrap;\n",
       "      gap: 12px;\n",
       "    }\n",
       "\n",
       "    .colab-df-convert {\n",
       "      background-color: #E8F0FE;\n",
       "      border: none;\n",
       "      border-radius: 50%;\n",
       "      cursor: pointer;\n",
       "      display: none;\n",
       "      fill: #1967D2;\n",
       "      height: 32px;\n",
       "      padding: 0 0 0 0;\n",
       "      width: 32px;\n",
       "    }\n",
       "\n",
       "    .colab-df-convert:hover {\n",
       "      background-color: #E2EBFA;\n",
       "      box-shadow: 0px 1px 2px rgba(60, 64, 67, 0.3), 0px 1px 3px 1px rgba(60, 64, 67, 0.15);\n",
       "      fill: #174EA6;\n",
       "    }\n",
       "\n",
       "    [theme=dark] .colab-df-convert {\n",
       "      background-color: #3B4455;\n",
       "      fill: #D2E3FC;\n",
       "    }\n",
       "\n",
       "    [theme=dark] .colab-df-convert:hover {\n",
       "      background-color: #434B5C;\n",
       "      box-shadow: 0px 1px 3px 1px rgba(0, 0, 0, 0.15);\n",
       "      filter: drop-shadow(0px 1px 2px rgba(0, 0, 0, 0.3));\n",
       "      fill: #FFFFFF;\n",
       "    }\n",
       "  </style>\n",
       "\n",
       "      <script>\n",
       "        const buttonEl =\n",
       "          document.querySelector('#df-0c1cbffe-db46-4cd0-b642-3c7f22a82b09 button.colab-df-convert');\n",
       "        buttonEl.style.display =\n",
       "          google.colab.kernel.accessAllowed ? 'block' : 'none';\n",
       "\n",
       "        async function convertToInteractive(key) {\n",
       "          const element = document.querySelector('#df-0c1cbffe-db46-4cd0-b642-3c7f22a82b09');\n",
       "          const dataTable =\n",
       "            await google.colab.kernel.invokeFunction('convertToInteractive',\n",
       "                                                     [key], {});\n",
       "          if (!dataTable) return;\n",
       "\n",
       "          const docLinkHtml = 'Like what you see? Visit the ' +\n",
       "            '<a target=\"_blank\" href=https://colab.research.google.com/notebooks/data_table.ipynb>data table notebook</a>'\n",
       "            + ' to learn more about interactive tables.';\n",
       "          element.innerHTML = '';\n",
       "          dataTable['output_type'] = 'display_data';\n",
       "          await google.colab.output.renderOutput(dataTable, element);\n",
       "          const docLink = document.createElement('div');\n",
       "          docLink.innerHTML = docLinkHtml;\n",
       "          element.appendChild(docLink);\n",
       "        }\n",
       "      </script>\n",
       "    </div>\n",
       "  </div>\n",
       "  "
      ],
      "text/plain": [
       "       Unnamed:_0  Diabetes_binary  HighBP  High_Cholesterol  \\\n",
       "0               0              0.0     1.0               0.0   \n",
       "1               1              0.0     1.0               1.0   \n",
       "2               2              0.0     0.0               0.0   \n",
       "3               3              0.0     1.0               1.0   \n",
       "4               4              0.0     0.0               0.0   \n",
       "...           ...              ...     ...               ...   \n",
       "70687       70687              1.0     0.0               1.0   \n",
       "70688       70688              1.0     0.0               1.0   \n",
       "70689       70689              1.0     1.0               1.0   \n",
       "70690       70690              1.0     1.0               1.0   \n",
       "70691       70691              1.0     1.0               1.0   \n",
       "\n",
       "       Cholesterol_Check  BMI  Smoker  Stroke  HeartDiseaseorAttack  \\\n",
       "0                    1.0  4.0     0.0     0.0                   0.0   \n",
       "1                    1.0  4.0     1.0     1.0                   0.0   \n",
       "2                    1.0  4.0     0.0     0.0                   0.0   \n",
       "3                    1.0  4.0     1.0     0.0                   0.0   \n",
       "4                    1.0  4.0     1.0     0.0                   0.0   \n",
       "...                  ...  ...     ...     ...                   ...   \n",
       "70687                1.0  6.0     0.0     0.0                   0.0   \n",
       "70688                1.0  4.0     1.0     0.0                   1.0   \n",
       "70689                1.0  3.0     0.0     0.0                   1.0   \n",
       "70690                1.0  2.0     0.0     0.0                   0.0   \n",
       "70691                1.0  3.0     0.0     0.0                   1.0   \n",
       "\n",
       "       Physical_Activity  ...  Education_Cat5  Education_Cat6  Income_Cat1  \\\n",
       "0                    1.0  ...               0               1            0   \n",
       "1                    0.0  ...               0               1            0   \n",
       "2                    1.0  ...               0               1            0   \n",
       "3                    1.0  ...               0               1            0   \n",
       "4                    1.0  ...               1               0            0   \n",
       "...                  ...  ...             ...             ...          ...   \n",
       "70687                0.0  ...               0               0            1   \n",
       "70688                0.0  ...               0               0            0   \n",
       "70689                0.0  ...               0               1            0   \n",
       "70690                0.0  ...               0               0            0   \n",
       "70691                1.0  ...               0               1            0   \n",
       "\n",
       "       Income_Cat2  Income_Cat3  Income_Cat4  Income_Cat5  Income_Cat6  \\\n",
       "0                0            0            0            0            0   \n",
       "1                0            0            0            0            0   \n",
       "2                0            0            0            0            0   \n",
       "3                0            0            0            0            0   \n",
       "4                0            0            0            0            0   \n",
       "...            ...          ...          ...          ...          ...   \n",
       "70687            0            0            0            0            0   \n",
       "70688            0            0            0            0            1   \n",
       "70689            0            0            1            0            0   \n",
       "70690            0            0            1            0            0   \n",
       "70691            1            0            0            0            0   \n",
       "\n",
       "       Income_Cat7  Income_Cat8  \n",
       "0                0            1  \n",
       "1                0            1  \n",
       "2                0            1  \n",
       "3                0            1  \n",
       "4                0            1  \n",
       "...            ...          ...  \n",
       "70687            0            0  \n",
       "70688            0            0  \n",
       "70689            0            0  \n",
       "70690            0            0  \n",
       "70691            0            0  \n",
       "\n",
       "[70691 rows x 40 columns]"
      ]
     },
     "execution_count": 18,
     "metadata": {},
     "output_type": "execute_result"
    }
   ],
   "source": [
    "df"
   ]
  },
  {
   "cell_type": "markdown",
   "id": "4364f7f8",
   "metadata": {
    "id": "4364f7f8"
   },
   "source": [
    "# Seperate Label and Data"
   ]
  },
  {
   "cell_type": "code",
   "execution_count": null,
   "id": "8eafe576",
   "metadata": {
    "id": "8eafe576"
   },
   "outputs": [],
   "source": [
    "Diabetes_binary = df[\"Diabetes_binary\"]\n",
    "df.drop([\"Unnamed:_0\", \"Diabetes_binary\"], axis=1, inplace=True)"
   ]
  },
  {
   "cell_type": "code",
   "execution_count": null,
   "id": "7662b641",
   "metadata": {
    "colab": {
     "base_uri": "https://localhost:8080/"
    },
    "id": "7662b641",
    "outputId": "ecc9438a-47e3-4336-877d-78020eca55ff"
   },
   "outputs": [
    {
     "data": {
      "text/plain": [
       "0        0.0\n",
       "1        0.0\n",
       "2        0.0\n",
       "3        0.0\n",
       "4        0.0\n",
       "        ... \n",
       "70687    1.0\n",
       "70688    1.0\n",
       "70689    1.0\n",
       "70690    1.0\n",
       "70691    1.0\n",
       "Name: Diabetes_binary, Length: 70691, dtype: float64"
      ]
     },
     "execution_count": 20,
     "metadata": {},
     "output_type": "execute_result"
    }
   ],
   "source": [
    "Diabetes_binary"
   ]
  },
  {
   "cell_type": "markdown",
   "id": "daa04d37",
   "metadata": {
    "id": "daa04d37"
   },
   "source": [
    "# Buildind the XGBoost Classifier"
   ]
  },
  {
   "cell_type": "code",
   "execution_count": null,
   "id": "285999b8",
   "metadata": {
    "colab": {
     "base_uri": "https://localhost:8080/"
    },
    "id": "285999b8",
    "outputId": "1634c621-fd61-4668-95df-593dad13922e"
   },
   "outputs": [
    {
     "name": "stdout",
     "output_type": "stream",
     "text": [
      "Looking in indexes: https://pypi.org/simple, https://us-python.pkg.dev/colab-wheels/public/simple/\n",
      "Requirement already satisfied: xgboost in /usr/local/lib/python3.7/dist-packages (0.90)\n",
      "Requirement already satisfied: numpy in /usr/local/lib/python3.7/dist-packages (from xgboost) (1.21.6)\n",
      "Requirement already satisfied: scipy in /usr/local/lib/python3.7/dist-packages (from xgboost) (1.4.1)\n"
     ]
    }
   ],
   "source": [
    "!pip install xgboost\n",
    "from sklearn.model_selection import train_test_split\n",
    "from xgboost import XGBClassifier\n",
    "import xgboost\n",
    "from sklearn.metrics import confusion_matrix, accuracy_score, precision_score, recall_score, f1_score, log_loss\n"
   ]
  },
  {
   "cell_type": "code",
   "execution_count": null,
   "id": "66c14004",
   "metadata": {
    "id": "66c14004"
   },
   "outputs": [],
   "source": [
    "X = df\n",
    "Y = Diabetes_binary"
   ]
  },
  {
   "cell_type": "code",
   "execution_count": null,
   "id": "UGrfbWHiJrsm",
   "metadata": {
    "colab": {
     "base_uri": "https://localhost:8080/",
     "height": 488
    },
    "id": "UGrfbWHiJrsm",
    "outputId": "350b09a0-7cab-4190-b9fd-22c9606dcdde"
   },
   "outputs": [
    {
     "data": {
      "text/html": [
       "\n",
       "  <div id=\"df-4a94561d-3f3e-4e51-9924-59b9ae750934\">\n",
       "    <div class=\"colab-df-container\">\n",
       "      <div>\n",
       "<style scoped>\n",
       "    .dataframe tbody tr th:only-of-type {\n",
       "        vertical-align: middle;\n",
       "    }\n",
       "\n",
       "    .dataframe tbody tr th {\n",
       "        vertical-align: top;\n",
       "    }\n",
       "\n",
       "    .dataframe thead th {\n",
       "        text-align: right;\n",
       "    }\n",
       "</style>\n",
       "<table border=\"1\" class=\"dataframe\">\n",
       "  <thead>\n",
       "    <tr style=\"text-align: right;\">\n",
       "      <th></th>\n",
       "      <th>HighBP</th>\n",
       "      <th>High_Cholesterol</th>\n",
       "      <th>Cholesterol_Check</th>\n",
       "      <th>BMI</th>\n",
       "      <th>Smoker</th>\n",
       "      <th>Stroke</th>\n",
       "      <th>HeartDiseaseorAttack</th>\n",
       "      <th>Physical_Activity</th>\n",
       "      <th>Fruits</th>\n",
       "      <th>Veggies</th>\n",
       "      <th>...</th>\n",
       "      <th>Education_Cat5</th>\n",
       "      <th>Education_Cat6</th>\n",
       "      <th>Income_Cat1</th>\n",
       "      <th>Income_Cat2</th>\n",
       "      <th>Income_Cat3</th>\n",
       "      <th>Income_Cat4</th>\n",
       "      <th>Income_Cat5</th>\n",
       "      <th>Income_Cat6</th>\n",
       "      <th>Income_Cat7</th>\n",
       "      <th>Income_Cat8</th>\n",
       "    </tr>\n",
       "  </thead>\n",
       "  <tbody>\n",
       "    <tr>\n",
       "      <th>0</th>\n",
       "      <td>1.0</td>\n",
       "      <td>0.0</td>\n",
       "      <td>1.0</td>\n",
       "      <td>4.0</td>\n",
       "      <td>0.0</td>\n",
       "      <td>0.0</td>\n",
       "      <td>0.0</td>\n",
       "      <td>1.0</td>\n",
       "      <td>0.0</td>\n",
       "      <td>1.0</td>\n",
       "      <td>...</td>\n",
       "      <td>0</td>\n",
       "      <td>1</td>\n",
       "      <td>0</td>\n",
       "      <td>0</td>\n",
       "      <td>0</td>\n",
       "      <td>0</td>\n",
       "      <td>0</td>\n",
       "      <td>0</td>\n",
       "      <td>0</td>\n",
       "      <td>1</td>\n",
       "    </tr>\n",
       "    <tr>\n",
       "      <th>1</th>\n",
       "      <td>1.0</td>\n",
       "      <td>1.0</td>\n",
       "      <td>1.0</td>\n",
       "      <td>4.0</td>\n",
       "      <td>1.0</td>\n",
       "      <td>1.0</td>\n",
       "      <td>0.0</td>\n",
       "      <td>0.0</td>\n",
       "      <td>1.0</td>\n",
       "      <td>0.0</td>\n",
       "      <td>...</td>\n",
       "      <td>0</td>\n",
       "      <td>1</td>\n",
       "      <td>0</td>\n",
       "      <td>0</td>\n",
       "      <td>0</td>\n",
       "      <td>0</td>\n",
       "      <td>0</td>\n",
       "      <td>0</td>\n",
       "      <td>0</td>\n",
       "      <td>1</td>\n",
       "    </tr>\n",
       "    <tr>\n",
       "      <th>2</th>\n",
       "      <td>0.0</td>\n",
       "      <td>0.0</td>\n",
       "      <td>1.0</td>\n",
       "      <td>4.0</td>\n",
       "      <td>0.0</td>\n",
       "      <td>0.0</td>\n",
       "      <td>0.0</td>\n",
       "      <td>1.0</td>\n",
       "      <td>1.0</td>\n",
       "      <td>1.0</td>\n",
       "      <td>...</td>\n",
       "      <td>0</td>\n",
       "      <td>1</td>\n",
       "      <td>0</td>\n",
       "      <td>0</td>\n",
       "      <td>0</td>\n",
       "      <td>0</td>\n",
       "      <td>0</td>\n",
       "      <td>0</td>\n",
       "      <td>0</td>\n",
       "      <td>1</td>\n",
       "    </tr>\n",
       "    <tr>\n",
       "      <th>3</th>\n",
       "      <td>1.0</td>\n",
       "      <td>1.0</td>\n",
       "      <td>1.0</td>\n",
       "      <td>4.0</td>\n",
       "      <td>1.0</td>\n",
       "      <td>0.0</td>\n",
       "      <td>0.0</td>\n",
       "      <td>1.0</td>\n",
       "      <td>1.0</td>\n",
       "      <td>1.0</td>\n",
       "      <td>...</td>\n",
       "      <td>0</td>\n",
       "      <td>1</td>\n",
       "      <td>0</td>\n",
       "      <td>0</td>\n",
       "      <td>0</td>\n",
       "      <td>0</td>\n",
       "      <td>0</td>\n",
       "      <td>0</td>\n",
       "      <td>0</td>\n",
       "      <td>1</td>\n",
       "    </tr>\n",
       "    <tr>\n",
       "      <th>4</th>\n",
       "      <td>0.0</td>\n",
       "      <td>0.0</td>\n",
       "      <td>1.0</td>\n",
       "      <td>4.0</td>\n",
       "      <td>1.0</td>\n",
       "      <td>0.0</td>\n",
       "      <td>0.0</td>\n",
       "      <td>1.0</td>\n",
       "      <td>1.0</td>\n",
       "      <td>1.0</td>\n",
       "      <td>...</td>\n",
       "      <td>1</td>\n",
       "      <td>0</td>\n",
       "      <td>0</td>\n",
       "      <td>0</td>\n",
       "      <td>0</td>\n",
       "      <td>0</td>\n",
       "      <td>0</td>\n",
       "      <td>0</td>\n",
       "      <td>0</td>\n",
       "      <td>1</td>\n",
       "    </tr>\n",
       "    <tr>\n",
       "      <th>...</th>\n",
       "      <td>...</td>\n",
       "      <td>...</td>\n",
       "      <td>...</td>\n",
       "      <td>...</td>\n",
       "      <td>...</td>\n",
       "      <td>...</td>\n",
       "      <td>...</td>\n",
       "      <td>...</td>\n",
       "      <td>...</td>\n",
       "      <td>...</td>\n",
       "      <td>...</td>\n",
       "      <td>...</td>\n",
       "      <td>...</td>\n",
       "      <td>...</td>\n",
       "      <td>...</td>\n",
       "      <td>...</td>\n",
       "      <td>...</td>\n",
       "      <td>...</td>\n",
       "      <td>...</td>\n",
       "      <td>...</td>\n",
       "      <td>...</td>\n",
       "    </tr>\n",
       "    <tr>\n",
       "      <th>70687</th>\n",
       "      <td>0.0</td>\n",
       "      <td>1.0</td>\n",
       "      <td>1.0</td>\n",
       "      <td>6.0</td>\n",
       "      <td>0.0</td>\n",
       "      <td>0.0</td>\n",
       "      <td>0.0</td>\n",
       "      <td>0.0</td>\n",
       "      <td>0.0</td>\n",
       "      <td>1.0</td>\n",
       "      <td>...</td>\n",
       "      <td>0</td>\n",
       "      <td>0</td>\n",
       "      <td>1</td>\n",
       "      <td>0</td>\n",
       "      <td>0</td>\n",
       "      <td>0</td>\n",
       "      <td>0</td>\n",
       "      <td>0</td>\n",
       "      <td>0</td>\n",
       "      <td>0</td>\n",
       "    </tr>\n",
       "    <tr>\n",
       "      <th>70688</th>\n",
       "      <td>0.0</td>\n",
       "      <td>1.0</td>\n",
       "      <td>1.0</td>\n",
       "      <td>4.0</td>\n",
       "      <td>1.0</td>\n",
       "      <td>0.0</td>\n",
       "      <td>1.0</td>\n",
       "      <td>0.0</td>\n",
       "      <td>1.0</td>\n",
       "      <td>1.0</td>\n",
       "      <td>...</td>\n",
       "      <td>0</td>\n",
       "      <td>0</td>\n",
       "      <td>0</td>\n",
       "      <td>0</td>\n",
       "      <td>0</td>\n",
       "      <td>0</td>\n",
       "      <td>0</td>\n",
       "      <td>1</td>\n",
       "      <td>0</td>\n",
       "      <td>0</td>\n",
       "    </tr>\n",
       "    <tr>\n",
       "      <th>70689</th>\n",
       "      <td>1.0</td>\n",
       "      <td>1.0</td>\n",
       "      <td>1.0</td>\n",
       "      <td>3.0</td>\n",
       "      <td>0.0</td>\n",
       "      <td>0.0</td>\n",
       "      <td>1.0</td>\n",
       "      <td>0.0</td>\n",
       "      <td>1.0</td>\n",
       "      <td>0.0</td>\n",
       "      <td>...</td>\n",
       "      <td>0</td>\n",
       "      <td>1</td>\n",
       "      <td>0</td>\n",
       "      <td>0</td>\n",
       "      <td>0</td>\n",
       "      <td>1</td>\n",
       "      <td>0</td>\n",
       "      <td>0</td>\n",
       "      <td>0</td>\n",
       "      <td>0</td>\n",
       "    </tr>\n",
       "    <tr>\n",
       "      <th>70690</th>\n",
       "      <td>1.0</td>\n",
       "      <td>1.0</td>\n",
       "      <td>1.0</td>\n",
       "      <td>2.0</td>\n",
       "      <td>0.0</td>\n",
       "      <td>0.0</td>\n",
       "      <td>0.0</td>\n",
       "      <td>0.0</td>\n",
       "      <td>0.0</td>\n",
       "      <td>0.0</td>\n",
       "      <td>...</td>\n",
       "      <td>0</td>\n",
       "      <td>0</td>\n",
       "      <td>0</td>\n",
       "      <td>0</td>\n",
       "      <td>0</td>\n",
       "      <td>1</td>\n",
       "      <td>0</td>\n",
       "      <td>0</td>\n",
       "      <td>0</td>\n",
       "      <td>0</td>\n",
       "    </tr>\n",
       "    <tr>\n",
       "      <th>70691</th>\n",
       "      <td>1.0</td>\n",
       "      <td>1.0</td>\n",
       "      <td>1.0</td>\n",
       "      <td>3.0</td>\n",
       "      <td>0.0</td>\n",
       "      <td>0.0</td>\n",
       "      <td>1.0</td>\n",
       "      <td>1.0</td>\n",
       "      <td>1.0</td>\n",
       "      <td>0.0</td>\n",
       "      <td>...</td>\n",
       "      <td>0</td>\n",
       "      <td>1</td>\n",
       "      <td>0</td>\n",
       "      <td>1</td>\n",
       "      <td>0</td>\n",
       "      <td>0</td>\n",
       "      <td>0</td>\n",
       "      <td>0</td>\n",
       "      <td>0</td>\n",
       "      <td>0</td>\n",
       "    </tr>\n",
       "  </tbody>\n",
       "</table>\n",
       "<p>70691 rows × 38 columns</p>\n",
       "</div>\n",
       "      <button class=\"colab-df-convert\" onclick=\"convertToInteractive('df-4a94561d-3f3e-4e51-9924-59b9ae750934')\"\n",
       "              title=\"Convert this dataframe to an interactive table.\"\n",
       "              style=\"display:none;\">\n",
       "        \n",
       "  <svg xmlns=\"http://www.w3.org/2000/svg\" height=\"24px\"viewBox=\"0 0 24 24\"\n",
       "       width=\"24px\">\n",
       "    <path d=\"M0 0h24v24H0V0z\" fill=\"none\"/>\n",
       "    <path d=\"M18.56 5.44l.94 2.06.94-2.06 2.06-.94-2.06-.94-.94-2.06-.94 2.06-2.06.94zm-11 1L8.5 8.5l.94-2.06 2.06-.94-2.06-.94L8.5 2.5l-.94 2.06-2.06.94zm10 10l.94 2.06.94-2.06 2.06-.94-2.06-.94-.94-2.06-.94 2.06-2.06.94z\"/><path d=\"M17.41 7.96l-1.37-1.37c-.4-.4-.92-.59-1.43-.59-.52 0-1.04.2-1.43.59L10.3 9.45l-7.72 7.72c-.78.78-.78 2.05 0 2.83L4 21.41c.39.39.9.59 1.41.59.51 0 1.02-.2 1.41-.59l7.78-7.78 2.81-2.81c.8-.78.8-2.07 0-2.86zM5.41 20L4 18.59l7.72-7.72 1.47 1.35L5.41 20z\"/>\n",
       "  </svg>\n",
       "      </button>\n",
       "      \n",
       "  <style>\n",
       "    .colab-df-container {\n",
       "      display:flex;\n",
       "      flex-wrap:wrap;\n",
       "      gap: 12px;\n",
       "    }\n",
       "\n",
       "    .colab-df-convert {\n",
       "      background-color: #E8F0FE;\n",
       "      border: none;\n",
       "      border-radius: 50%;\n",
       "      cursor: pointer;\n",
       "      display: none;\n",
       "      fill: #1967D2;\n",
       "      height: 32px;\n",
       "      padding: 0 0 0 0;\n",
       "      width: 32px;\n",
       "    }\n",
       "\n",
       "    .colab-df-convert:hover {\n",
       "      background-color: #E2EBFA;\n",
       "      box-shadow: 0px 1px 2px rgba(60, 64, 67, 0.3), 0px 1px 3px 1px rgba(60, 64, 67, 0.15);\n",
       "      fill: #174EA6;\n",
       "    }\n",
       "\n",
       "    [theme=dark] .colab-df-convert {\n",
       "      background-color: #3B4455;\n",
       "      fill: #D2E3FC;\n",
       "    }\n",
       "\n",
       "    [theme=dark] .colab-df-convert:hover {\n",
       "      background-color: #434B5C;\n",
       "      box-shadow: 0px 1px 3px 1px rgba(0, 0, 0, 0.15);\n",
       "      filter: drop-shadow(0px 1px 2px rgba(0, 0, 0, 0.3));\n",
       "      fill: #FFFFFF;\n",
       "    }\n",
       "  </style>\n",
       "\n",
       "      <script>\n",
       "        const buttonEl =\n",
       "          document.querySelector('#df-4a94561d-3f3e-4e51-9924-59b9ae750934 button.colab-df-convert');\n",
       "        buttonEl.style.display =\n",
       "          google.colab.kernel.accessAllowed ? 'block' : 'none';\n",
       "\n",
       "        async function convertToInteractive(key) {\n",
       "          const element = document.querySelector('#df-4a94561d-3f3e-4e51-9924-59b9ae750934');\n",
       "          const dataTable =\n",
       "            await google.colab.kernel.invokeFunction('convertToInteractive',\n",
       "                                                     [key], {});\n",
       "          if (!dataTable) return;\n",
       "\n",
       "          const docLinkHtml = 'Like what you see? Visit the ' +\n",
       "            '<a target=\"_blank\" href=https://colab.research.google.com/notebooks/data_table.ipynb>data table notebook</a>'\n",
       "            + ' to learn more about interactive tables.';\n",
       "          element.innerHTML = '';\n",
       "          dataTable['output_type'] = 'display_data';\n",
       "          await google.colab.output.renderOutput(dataTable, element);\n",
       "          const docLink = document.createElement('div');\n",
       "          docLink.innerHTML = docLinkHtml;\n",
       "          element.appendChild(docLink);\n",
       "        }\n",
       "      </script>\n",
       "    </div>\n",
       "  </div>\n",
       "  "
      ],
      "text/plain": [
       "       HighBP  High_Cholesterol  Cholesterol_Check  BMI  Smoker  Stroke  \\\n",
       "0         1.0               0.0                1.0  4.0     0.0     0.0   \n",
       "1         1.0               1.0                1.0  4.0     1.0     1.0   \n",
       "2         0.0               0.0                1.0  4.0     0.0     0.0   \n",
       "3         1.0               1.0                1.0  4.0     1.0     0.0   \n",
       "4         0.0               0.0                1.0  4.0     1.0     0.0   \n",
       "...       ...               ...                ...  ...     ...     ...   \n",
       "70687     0.0               1.0                1.0  6.0     0.0     0.0   \n",
       "70688     0.0               1.0                1.0  4.0     1.0     0.0   \n",
       "70689     1.0               1.0                1.0  3.0     0.0     0.0   \n",
       "70690     1.0               1.0                1.0  2.0     0.0     0.0   \n",
       "70691     1.0               1.0                1.0  3.0     0.0     0.0   \n",
       "\n",
       "       HeartDiseaseorAttack  Physical_Activity  Fruits  Veggies  ...  \\\n",
       "0                       0.0                1.0     0.0      1.0  ...   \n",
       "1                       0.0                0.0     1.0      0.0  ...   \n",
       "2                       0.0                1.0     1.0      1.0  ...   \n",
       "3                       0.0                1.0     1.0      1.0  ...   \n",
       "4                       0.0                1.0     1.0      1.0  ...   \n",
       "...                     ...                ...     ...      ...  ...   \n",
       "70687                   0.0                0.0     0.0      1.0  ...   \n",
       "70688                   1.0                0.0     1.0      1.0  ...   \n",
       "70689                   1.0                0.0     1.0      0.0  ...   \n",
       "70690                   0.0                0.0     0.0      0.0  ...   \n",
       "70691                   1.0                1.0     1.0      0.0  ...   \n",
       "\n",
       "       Education_Cat5  Education_Cat6  Income_Cat1  Income_Cat2  Income_Cat3  \\\n",
       "0                   0               1            0            0            0   \n",
       "1                   0               1            0            0            0   \n",
       "2                   0               1            0            0            0   \n",
       "3                   0               1            0            0            0   \n",
       "4                   1               0            0            0            0   \n",
       "...               ...             ...          ...          ...          ...   \n",
       "70687               0               0            1            0            0   \n",
       "70688               0               0            0            0            0   \n",
       "70689               0               1            0            0            0   \n",
       "70690               0               0            0            0            0   \n",
       "70691               0               1            0            1            0   \n",
       "\n",
       "       Income_Cat4  Income_Cat5  Income_Cat6  Income_Cat7  Income_Cat8  \n",
       "0                0            0            0            0            1  \n",
       "1                0            0            0            0            1  \n",
       "2                0            0            0            0            1  \n",
       "3                0            0            0            0            1  \n",
       "4                0            0            0            0            1  \n",
       "...            ...          ...          ...          ...          ...  \n",
       "70687            0            0            0            0            0  \n",
       "70688            0            0            1            0            0  \n",
       "70689            1            0            0            0            0  \n",
       "70690            1            0            0            0            0  \n",
       "70691            0            0            0            0            0  \n",
       "\n",
       "[70691 rows x 38 columns]"
      ]
     },
     "execution_count": 23,
     "metadata": {},
     "output_type": "execute_result"
    }
   ],
   "source": [
    "\n",
    "X"
   ]
  },
  {
   "cell_type": "markdown",
   "id": "Thl6NHTPPzsb",
   "metadata": {
    "id": "Thl6NHTPPzsb"
   },
   "source": [
    "<font color='blue'>\n",
    "    80 % of data wil be used for training and 20 % for test\n",
    "</font>"
   ]
  },
  {
   "cell_type": "code",
   "execution_count": null,
   "id": "3f07fe5e",
   "metadata": {
    "id": "3f07fe5e"
   },
   "outputs": [],
   "source": [
    "x_train, x_test, y_train, y_test = train_test_split(X, Y, test_size=0.2, random_state=42, stratify=Y)"
   ]
  },
  {
   "cell_type": "markdown",
   "id": "f16073d5",
   "metadata": {
    "id": "f16073d5"
   },
   "source": [
    "### Initiate the Model"
   ]
  },
  {
   "cell_type": "code",
   "execution_count": null,
   "id": "91568259",
   "metadata": {
    "id": "91568259"
   },
   "outputs": [],
   "source": [
    "model = XGBClassifier(\n",
    "            tree_method='gpu_hist',\n",
    "            Learning_rate=0.1,\n",
    "            Max_depth=4,\n",
    "            N_estimator=200,\n",
    "            Subsample=0.5,\n",
    "            Colsample_bytree=1,\n",
    "            Random_seed=123,\n",
    "            Eval_metric='auc',\n",
    "            Verbosity=1)"
   ]
  },
  {
   "cell_type": "markdown",
   "id": "287d65a7",
   "metadata": {
    "id": "287d65a7"
   },
   "source": [
    "### Train"
   ]
  },
  {
   "cell_type": "code",
   "execution_count": null,
   "id": "e2980cec",
   "metadata": {
    "colab": {
     "base_uri": "https://localhost:8080/"
    },
    "id": "e2980cec",
    "outputId": "aab73f0c-e85e-49b0-b59b-62774a623abb",
    "scrolled": true,
    "tags": []
   },
   "outputs": [],
   "source": [
    "eval_set = [(x_test, y_test)]\n",
    "model.fit(x_train, y_train, early_stopping_rounds=10,  eval_set=eval_set, verbose=True)"
   ]
  },
  {
   "cell_type": "markdown",
   "id": "t3AGuC8zLyAk",
   "metadata": {
    "id": "t3AGuC8zLyAk"
   },
   "source": [
    "### Results"
   ]
  },
  {
   "cell_type": "code",
   "execution_count": null,
   "id": "z_lMMO_QMya5",
   "metadata": {
    "id": "z_lMMO_QMya5"
   },
   "outputs": [],
   "source": [
    "from sklearn.metrics import confusion_matrix\n",
    "import matplotlib.pyplot as plt"
   ]
  },
  {
   "cell_type": "code",
   "execution_count": null,
   "id": "G1ZPjHosLsl2",
   "metadata": {
    "id": "G1ZPjHosLsl2"
   },
   "outputs": [],
   "source": [
    "def show_res(actual, predicted, color):\n",
    "  acc = accuracy_score(actual, predicted)\n",
    "  recall = recall_score(actual, predicted)\n",
    "  precision = precision_score(actual, predicted)\n",
    "  print(f\" Accuracy => {acc}\\n Recall => {recall}\\n Precision => {precision}\")\n",
    "  conf_matrix = confusion_matrix(y_true=actual, y_pred=predicted)\n",
    "  \n",
    "  # Print the confusion matrix using Matplotlib\n",
    "  fig, ax = plt.subplots(figsize=(5, 5))\n",
    "  ax.matshow(conf_matrix, cmap=color, alpha=0.3)\n",
    "  for i in range(conf_matrix.shape[0]):\n",
    "      for j in range(conf_matrix.shape[1]):\n",
    "          ax.text(x=j, y=i,s=conf_matrix[i, j], va='center', ha='center', size='xx-large')\n",
    "  \n",
    "  plt.xlabel('Predictions', fontsize=18)\n",
    "  plt.ylabel('Actuals', fontsize=18)\n",
    "  plt.title('Confusion Matrix', fontsize=18)\n",
    "  plt.show()"
   ]
  },
  {
   "cell_type": "markdown",
   "id": "E2CjHuurOBtS",
   "metadata": {
    "id": "E2CjHuurOBtS"
   },
   "source": [
    "### Test Set"
   ]
  },
  {
   "cell_type": "code",
   "execution_count": null,
   "id": "c5fc3e3d",
   "metadata": {
    "colab": {
     "base_uri": "https://localhost:8080/",
     "height": 410
    },
    "id": "c5fc3e3d",
    "outputId": "41f2e079-3105-4009-8c3c-e495388921c9"
   },
   "outputs": [
    {
     "name": "stdout",
     "output_type": "stream",
     "text": [
      " Accuracy => 0.7538015418346418\n",
      " Recall => 0.7963224893917963\n",
      " Precision => 0.7339329943944727\n"
     ]
    },
    {
     "data": {
      "image/png": "[encoded data removed]",
      "text/plain": [
       "<Figure size 360x360 with 1 Axes>"
      ]
     },
     "metadata": {
      "needs_background": "light"
     },
     "output_type": "display_data"
    }
   ],
   "source": [
    "show_res(y_test, model.predict(x_test), 'Greens')"
   ]
  },
  {
   "cell_type": "markdown",
   "id": "5lXaPhaSOEsH",
   "metadata": {
    "id": "5lXaPhaSOEsH"
   },
   "source": [
    "### Train Set"
   ]
  },
  {
   "cell_type": "code",
   "execution_count": null,
   "id": "9d64edae",
   "metadata": {
    "colab": {
     "base_uri": "https://localhost:8080/",
     "height": 410
    },
    "id": "9d64edae",
    "outputId": "8f36ff2a-1f97-4496-8ecc-65c35b1f2c65"
   },
   "outputs": [
    {
     "name": "stdout",
     "output_type": "stream",
     "text": [
      " Accuracy => 0.7504243881737163\n",
      " Recall => 0.793181496675626\n",
      " Precision => 0.7306965530722617\n"
     ]
    },
    {
     "data": {
      "image/png": "[encoded data removed]",
      "text/plain": [
       "<Figure size 360x360 with 1 Axes>"
      ]
     },
     "metadata": {
      "needs_background": "light"
     },
     "output_type": "display_data"
    }
   ],
   "source": [
    "show_res(y_train, model.predict(x_train), 'Purples')"
   ]
  },
  {
   "cell_type": "markdown",
   "id": "Dj9e36rFOUYS",
   "metadata": {
    "id": "Dj9e36rFOUYS"
   },
   "source": [
    "# Hyperparameter Tuning"
   ]
  },
  {
   "cell_type": "code",
   "execution_count": null,
   "id": "7050cffa",
   "metadata": {
    "colab": {
     "base_uri": "https://localhost:8080/"
    },
    "id": "7050cffa",
    "outputId": "dde3f91e-fee8-47bc-b2dd-6d0f4d829fd5"
   },
   "outputs": [
    {
     "data": {
      "text/plain": [
       "{'base_score': 0.5,\n",
       " 'booster': 'gbtree',\n",
       " 'colsample_bylevel': 1,\n",
       " 'colsample_bynode': 1,\n",
       " 'colsample_bytree': 1,\n",
       " 'gamma': 0,\n",
       " 'learning_rate': 0.1,\n",
       " 'max_delta_step': 0,\n",
       " 'max_depth': 3,\n",
       " 'min_child_weight': 1,\n",
       " 'missing': None,\n",
       " 'n_estimators': 100,\n",
       " 'n_jobs': 1,\n",
       " 'nthread': None,\n",
       " 'objective': 'binary:logistic',\n",
       " 'random_state': 0,\n",
       " 'reg_alpha': 0,\n",
       " 'reg_lambda': 1,\n",
       " 'scale_pos_weight': 1,\n",
       " 'seed': None,\n",
       " 'silent': None,\n",
       " 'subsample': 1,\n",
       " 'verbosity': 1}"
      ]
     },
     "execution_count": 31,
     "metadata": {},
     "output_type": "execute_result"
    }
   ],
   "source": [
    "xgboost.XGBClassifier().get_params()"
   ]
  },
  {
   "cell_type": "code",
   "execution_count": null,
   "id": "01fdd59d",
   "metadata": {
    "id": "01fdd59d"
   },
   "outputs": [],
   "source": [
    "params_dict={\n",
    "          'learning_rate_list' : [0.02, 0.05, 0.1, 0.3],\n",
    "          'max_depth_list' : [2, 3, 4], \n",
    "          'n_estimators_list' : [100, 200, 300], \n",
    "          'colsample_bytree' : [0.8, 1]\n",
    "}"
   ]
  },
  {
   "cell_type": "code",
   "execution_count": null,
   "id": "C6gMjbFQO2JX",
   "metadata": {
    "id": "C6gMjbFQO2JX"
   },
   "outputs": [],
   "source": [
    "from sklearn.metrics import roc_auc_score"
   ]
  },
  {
   "cell_type": "code",
   "execution_count": null,
   "id": "uJ7X69uJOrYS",
   "metadata": {
    "id": "uJ7X69uJOrYS"
   },
   "outputs": [],
   "source": [
    "def my_roc_auc_score(model, X, y): \n",
    "  return roc_auc_score(y, model.predict_proba(X)[:,1])"
   ]
  },
  {
   "cell_type": "code",
   "execution_count": null,
   "id": "DehceMCRPwJT",
   "metadata": {
    "id": "DehceMCRPwJT"
   },
   "outputs": [],
   "source": [
    "from sklearn.model_selection import KFold, cross_val_score, train_test_split, StratifiedKFold, GridSearchCV"
   ]
  },
  {
   "cell_type": "code",
   "execution_count": null,
   "id": "9TOZmJKePivo",
   "metadata": {
    "id": "9TOZmJKePivo"
   },
   "outputs": [],
   "source": [
    "tuning_model = XGBClassifier(tree_method='gpu_hist',\n",
    "                             random_state = 42,\n",
    "                            eval_metric='auc',\n",
    "                            # use_label_encoder=False,\n",
    "                            Subsample=0.5\n",
    "                            )"
   ]
  },
  {
   "cell_type": "code",
   "execution_count": null,
   "id": "wQ_LcVHhPSgB",
   "metadata": {
    "id": "wQ_LcVHhPSgB"
   },
   "outputs": [],
   "source": [
    "kfold = StratifiedKFold(n_splits=3,\n",
    "                        shuffle=True,\n",
    "                        random_state=42)\n",
    "\n",
    "grid_search = GridSearchCV(tuning_model,\n",
    "                            params_dict,\n",
    "                            scoring=my_roc_auc_score,\n",
    "                            cv=kfold)"
   ]
  },
  {
   "cell_type": "code",
   "execution_count": null,
   "id": "2KqfDeFrQTtF",
   "metadata": {
    "colab": {
     "base_uri": "https://localhost:8080/"
    },
    "id": "2KqfDeFrQTtF",
    "outputId": "b72178a4-f0ad-45cb-c064-d2347dfce53f"
   },
   "outputs": [
    {
     "name": "stdout",
     "output_type": "stream",
     "text": [
      "Best: 0.827831324881323 using {'colsample_bytree': 0.8, 'learning_rate_list': 0.02, 'max_depth_list': 2, 'n_estimators_list': 100}\n"
     ]
    }
   ],
   "source": [
    "grid_result = grid_search.fit(x_train, y_train)\n",
    "\n",
    "print(f\"Best: {grid_result.best_score_} using {grid_result.best_params_}\")\n",
    "best_params = grid_result.best_params_\n",
    "means = grid_result.cv_results_['mean_test_score']\n",
    "stds = grid_result.cv_results_['std_test_score']\n",
    "params = grid_result.cv_results_['params']\n",
    "\n"
   ]
  },
  {
   "cell_type": "markdown",
   "id": "Iz2zirxoQDo_",
   "metadata": {
    "id": "Iz2zirxoQDo_"
   },
   "source": [
    "<font color='blue'>\n",
    "    Here we found the best parameters for our model\n",
    "</font>"
   ]
  },
  {
   "cell_type": "markdown",
   "id": "Xs_nRbAeS4qO",
   "metadata": {
    "id": "Xs_nRbAeS4qO"
   },
   "source": [
    "## Results"
   ]
  },
  {
   "cell_type": "code",
   "execution_count": null,
   "id": "GDILgACfS7eC",
   "metadata": {
    "id": "GDILgACfS7eC"
   },
   "outputs": [],
   "source": [
    "best_model = XGBClassifier( \n",
    "                            tree_method='gpu_hist',\n",
    "                            **grid_result.best_params_,\n",
    "                            Random_seed=123,\n",
    "                            eval_metric='auc',\n",
    "                            Subsample=0.5,\n",
    "                            )\n"
   ]
  },
  {
   "cell_type": "code",
   "execution_count": null,
   "id": "IcHQguqdTXeb",
   "metadata": {
    "colab": {
     "base_uri": "https://localhost:8080/"
    },
    "id": "IcHQguqdTXeb",
    "outputId": "f4c2de1e-d332-4be7-a16d-be4720a186b5",
    "scrolled": true,
    "tags": []
   },
   "outputs": [],
   "source": [
    "eval_set = [(x_test, y_test)]\n",
    "best_model.fit(x_train, y_train, early_stopping_rounds=10,  eval_set=eval_set, verbose=True)"
   ]
  },
  {
   "cell_type": "markdown",
   "id": "E4IZCcBGQ-fN",
   "metadata": {
    "id": "E4IZCcBGQ-fN"
   },
   "source": [
    "## Test Results"
   ]
  },
  {
   "cell_type": "code",
   "execution_count": null,
   "id": "Dx1srePhQuIu",
   "metadata": {
    "colab": {
     "base_uri": "https://localhost:8080/",
     "height": 410
    },
    "id": "Dx1srePhQuIu",
    "outputId": "0c2ab3eb-0d5b-42fc-f1bc-c3de910fafb4"
   },
   "outputs": [
    {
     "name": "stdout",
     "output_type": "stream",
     "text": [
      " Accuracy => 0.7547917108706415\n",
      " Recall => 0.7900990099009901\n",
      " Precision => 0.7380103051922314\n"
     ]
    },
    {
     "data": {
      "image/png": "[encoded data removed]",
      "text/plain": [
       "<Figure size 360x360 with 1 Axes>"
      ]
     },
     "metadata": {
      "needs_background": "light"
     },
     "output_type": "display_data"
    }
   ],
   "source": [
    "show_res(y_test, best_model.predict(x_test), 'Blues')"
   ]
  },
  {
   "cell_type": "markdown",
   "id": "4Wr4EmoVRBpy",
   "metadata": {
    "id": "4Wr4EmoVRBpy"
   },
   "source": [
    "## Test Results"
   ]
  },
  {
   "cell_type": "code",
   "execution_count": null,
   "id": "hbA1mYfvRDov",
   "metadata": {
    "colab": {
     "base_uri": "https://localhost:8080/",
     "height": 410
    },
    "id": "hbA1mYfvRDov",
    "outputId": "500374de-a693-40a8-f4e9-85fdb821a216"
   },
   "outputs": [
    {
     "name": "stdout",
     "output_type": "stream",
     "text": [
      " Accuracy => 0.7524755976800113\n",
      " Recall => 0.791342481256189\n",
      " Precision => 0.7342652753166634\n"
     ]
    },
    {
     "data": {
      "image/png": "[encoded data removed]",
      "text/plain": [
       "<Figure size 360x360 with 1 Axes>"
      ]
     },
     "metadata": {
      "needs_background": "light"
     },
     "output_type": "display_data"
    }
   ],
   "source": [
    "show_res(y_train, best_model.predict(x_train), 'Reds')"
   ]
  },
  {
   "cell_type": "markdown",
   "id": "kzJz9wX4xa6k",
   "metadata": {
    "id": "kzJz9wX4xa6k"
   },
   "source": [
    "<font color='blue'>\n",
    "    We used our Best Parameters to do another classification based on them. ALthough the parameters are different the change in the accuracy and other metrics very minimal because the initial parameters were ok and also the data is well parametrized.\n",
    "</font>"
   ]
  },
  {
   "cell_type": "markdown",
   "id": "CC7c7fqjUlA0",
   "metadata": {
    "id": "CC7c7fqjUlA0"
   },
   "source": [
    "# Plotting Parameters Effects"
   ]
  },
  {
   "cell_type": "code",
   "execution_count": null,
   "id": "l3Wr1t7rVDFb",
   "metadata": {
    "colab": {
     "base_uri": "https://localhost:8080/"
    },
    "id": "l3Wr1t7rVDFb",
    "outputId": "d58f9c99-23c6-4202-85d4-47dec2140ccd",
    "tags": []
   },
   "outputs": [],
   "source": [
    "acc_dict = {}\n",
    "for key in params_dict.keys():\n",
    "  temp_list = []\n",
    "  parameters = {\n",
    "        'tree_method' : 'gpu_hist',\n",
    "        'colsample_bytree' : 0.8, \n",
    "        \"learning_rate_list\" : 0.02,\n",
    "        'max_depth_list': 2, \n",
    "        'n_estimators_list': 100,\n",
    "        'Random_seed':123,\n",
    "        'eval_metric':'auc',\n",
    "        'Subsample':0.5,\n",
    "    }\n",
    "  for val in params_dict[key]:\n",
    "    if key in parameters.keys():\n",
    "      parameters[key] = val\n",
    "    sample_model = XGBClassifier( \n",
    "                              **parameters\n",
    "                              )\n",
    "    \n",
    "    eval_set = [(x_test, y_test)]\n",
    "    sample_model.fit(x_train, y_train, early_stopping_rounds=10,  eval_set=eval_set, verbose=True)\n",
    "    temp_list.append(accuracy_score(y_test, sample_model.predict(x_test)))\n",
    "\n",
    "  acc_dict[key] = temp_list"
   ]
  },
  {
   "cell_type": "markdown",
   "id": "il-A4pv0x2Ip",
   "metadata": {
    "id": "il-A4pv0x2Ip"
   },
   "source": [
    "### Accuracy"
   ]
  },
  {
   "cell_type": "code",
   "execution_count": null,
   "id": "a8aQVJkyUuF_",
   "metadata": {
    "colab": {
     "base_uri": "https://localhost:8080/",
     "height": 369
    },
    "id": "a8aQVJkyUuF_",
    "outputId": "e1e1ce7c-b28b-4d0f-d719-6432bbf57ed4"
   },
   "outputs": [
    {
     "data": {
      "image/png": "[encoded data removed]",
      "text/plain": [
       "<Figure size 720x360 with 4 Axes>"
      ]
     },
     "metadata": {
      "needs_background": "light"
     },
     "output_type": "display_data"
    }
   ],
   "source": [
    "fig = plt.figure()\n",
    "\n",
    "\n",
    "ax1 = fig.add_subplot(411)\n",
    "ax1.set_ylabel('accuracy')\n",
    "ax1.set_title('learning rate')\n",
    "\n",
    "line, = ax1.plot(params_dict['learning_rate_list'], acc_dict['learning_rate_list'])\n",
    "\n",
    "\n",
    "ax2 = fig.add_subplot(412)\n",
    "ax2.set_ylabel('accuracy')\n",
    "ax2.set_title('max depth')\n",
    "\n",
    "line, = ax2.plot(params_dict['max_depth_list'], acc_dict['max_depth_list'])\n",
    "\n",
    "ax3 = fig.add_subplot(413)\n",
    "ax3.set_ylabel('accuracy')\n",
    "ax3.set_title('n estimators')\n",
    "\n",
    "line, = ax3.plot(params_dict['n_estimators_list'], acc_dict['n_estimators_list'])\n",
    "\n",
    "\n",
    "ax4 = fig.add_subplot(414)\n",
    "ax4.set_ylabel('accuracy')\n",
    "ax4.set_title('colsample bytree')\n",
    "\n",
    "line, = ax4.plot(params_dict['colsample_bytree'], acc_dict['colsample_bytree'])\n",
    "\n",
    "plt.subplots_adjust(left=0.1,\n",
    "                    bottom=0.1, \n",
    "                    right=0.9, \n",
    "                    top=0.9, \n",
    "                    wspace=0.4, \n",
    "                    hspace=0.4)\n",
    "\n",
    "fig.set_figheight(5)\n",
    "fig.set_figwidth(10)\n",
    "\n",
    "fig.tight_layout()\n",
    "plt.show()"
   ]
  },
  {
   "cell_type": "markdown",
   "id": "Zq5vO3MLyAMx",
   "metadata": {
    "id": "Zq5vO3MLyAMx"
   },
   "source": [
    "<font color='blue'>\n",
    "    As stated above changing the parameters does not have a large shift in the accuracy or other metrics because the dataset is clean and well parametrized and not very complicated.\n",
    "</font>"
   ]
  },
  {
   "cell_type": "markdown",
   "id": "5GbEUW9zx8fV",
   "metadata": {
    "id": "5GbEUW9zx8fV"
   },
   "source": [
    "### Mean Score"
   ]
  },
  {
   "cell_type": "code",
   "execution_count": null,
   "id": "Maz-Hp_V5F0S",
   "metadata": {
    "id": "Maz-Hp_V5F0S"
   },
   "outputs": [],
   "source": [
    "means = grid_result.cv_results_['mean_test_score']\n",
    "stds = grid_result.cv_results_['std_test_score']\n",
    "params = grid_result.cv_results_['params']"
   ]
  },
  {
   "cell_type": "code",
   "execution_count": null,
   "id": "a-suuYcW9YJm",
   "metadata": {
    "colab": {
     "base_uri": "https://localhost:8080/"
    },
    "id": "a-suuYcW9YJm",
    "outputId": "0e569d5e-23cb-4b65-ff42-a7eb16200930",
    "tags": []
   },
   "outputs": [],
   "source": [
    "for mean, stdev, param in zip(means, stds, params):\n",
    "    print(\"%f (%f) with: %r\" % (mean, stdev, param))"
   ]
  },
  {
   "cell_type": "code",
   "execution_count": null,
   "id": "8LRmfhGr9_N4",
   "metadata": {
    "id": "8LRmfhGr9_N4"
   },
   "outputs": [],
   "source": [
    "import copy"
   ]
  },
  {
   "cell_type": "code",
   "execution_count": null,
   "id": "2zeGj5fi9N_O",
   "metadata": {
    "colab": {
     "base_uri": "https://localhost:8080/"
    },
    "id": "2zeGj5fi9N_O",
    "outputId": "573790c9-37af-49fd-bdae-748a8a9edaee"
   },
   "outputs": [
    {
     "data": {
      "text/plain": [
       "{0.02: 0.827831324881323,\n",
       " 0.05: 0.827831324881323,\n",
       " 0.1: 0.827831324881323,\n",
       " 0.3: 0.827831324881323}"
      ]
     },
     "execution_count": 50,
     "metadata": {},
     "output_type": "execute_result"
    }
   ],
   "source": [
    "lr_score = {}\n",
    "copy_res = copy.deepcopy(grid_result.best_params_)\n",
    "copy_res.pop('learning_rate_list')\n",
    "\n",
    "for i, value in zip(means, params):\n",
    "  copy_value = copy.deepcopy(value)\n",
    "  copy_value.pop('learning_rate_list')\n",
    "  if copy_res == copy_value:\n",
    "    lr_score[value['learning_rate_list']] = i\n",
    "\n",
    "lr_score"
   ]
  },
  {
   "cell_type": "code",
   "execution_count": null,
   "id": "BKDmfHCc_xNi",
   "metadata": {
    "colab": {
     "base_uri": "https://localhost:8080/",
     "height": 297
    },
    "id": "BKDmfHCc_xNi",
    "outputId": "9ce226fa-fac8-423c-a5da-d60f56e87b7d"
   },
   "outputs": [
    {
     "data": {
      "text/plain": [
       "Text(0.5, 0, 'learning_rate')"
      ]
     },
     "execution_count": 60,
     "metadata": {},
     "output_type": "execute_result"
    },
    {
     "data": {
      "image/png": "[encoded data removed]",
      "text/plain": [
       "<Figure size 432x288 with 1 Axes>"
      ]
     },
     "metadata": {
      "needs_background": "light"
     },
     "output_type": "display_data"
    }
   ],
   "source": [
    "plt.plot(list(lr_score.keys()), list(lr_score.values()))\n",
    "plt.ylabel('mean score')\n",
    "plt.xlabel('learning_rate')"
   ]
  },
  {
   "cell_type": "code",
   "execution_count": null,
   "id": "NBNnNmBx_XJU",
   "metadata": {
    "colab": {
     "base_uri": "https://localhost:8080/"
    },
    "id": "NBNnNmBx_XJU",
    "outputId": "0a439738-434a-4f57-ddb5-872286767494"
   },
   "outputs": [
    {
     "data": {
      "text/plain": [
       "{100: 0.827831324881323, 200: 0.827831324881323, 300: 0.827831324881323}"
      ]
     },
     "execution_count": 52,
     "metadata": {},
     "output_type": "execute_result"
    }
   ],
   "source": [
    "ne_score = {}\n",
    "copy_res = copy.deepcopy(grid_result.best_params_)\n",
    "copy_res.pop('n_estimators_list')\n",
    "\n",
    "for i, value in zip(means, params):\n",
    "  copy_value = copy.deepcopy(value)\n",
    "  copy_value.pop('n_estimators_list')\n",
    "  if copy_res == copy_value:\n",
    "    ne_score[value['n_estimators_list']] = i\n",
    "\n",
    "ne_score"
   ]
  },
  {
   "cell_type": "code",
   "execution_count": null,
   "id": "7i1QIxtcAaHK",
   "metadata": {
    "colab": {
     "base_uri": "https://localhost:8080/",
     "height": 282
    },
    "id": "7i1QIxtcAaHK",
    "outputId": "51af59b2-3630-4997-f60e-81e161e65460"
   },
   "outputs": [
    {
     "data": {
      "text/plain": [
       "[<matplotlib.lines.Line2D at 0x7f14405a4a10>]"
      ]
     },
     "execution_count": 53,
     "metadata": {},
     "output_type": "execute_result"
    },
    {
     "data": {
      "image/png": "[encoded data removed]",
      "text/plain": [
       "<Figure size 432x288 with 1 Axes>"
      ]
     },
     "metadata": {
      "needs_background": "light"
     },
     "output_type": "display_data"
    }
   ],
   "source": [
    "plt.plot(list(ne_score.keys()), list(ne_score.values()))\n",
    "plt.ylabel('mean score')\n",
    "plt.xlabel('n_estimators')"
   ]
  },
  {
   "cell_type": "code",
   "execution_count": null,
   "id": "Wm1ckCeQ_Xlu",
   "metadata": {
    "colab": {
     "base_uri": "https://localhost:8080/"
    },
    "id": "Wm1ckCeQ_Xlu",
    "outputId": "4a77df53-4959-4c02-a231-32629e8bf214"
   },
   "outputs": [
    {
     "data": {
      "text/plain": [
       "{2: 0.827831324881323, 3: 0.827831324881323, 4: 0.827831324881323}"
      ]
     },
     "execution_count": 54,
     "metadata": {},
     "output_type": "execute_result"
    }
   ],
   "source": [
    "md_score = {}\n",
    "copy_res = copy.deepcopy(grid_result.best_params_)\n",
    "copy_res.pop('max_depth_list')\n",
    "\n",
    "for i, value in zip(means, params):\n",
    "  copy_value = copy.deepcopy(value)\n",
    "  copy_value.pop('max_depth_list')\n",
    "  if copy_res == copy_value:\n",
    "    md_score[value['max_depth_list']] = i\n",
    "\n",
    "md_score"
   ]
  },
  {
   "cell_type": "code",
   "execution_count": null,
   "id": "1UppgP5RAc8e",
   "metadata": {
    "colab": {
     "base_uri": "https://localhost:8080/",
     "height": 282
    },
    "id": "1UppgP5RAc8e",
    "outputId": "a68606c8-c60e-4415-9ed9-f7da15709f13"
   },
   "outputs": [
    {
     "data": {
      "text/plain": [
       "[<matplotlib.lines.Line2D at 0x7f1440511d10>]"
      ]
     },
     "execution_count": 55,
     "metadata": {},
     "output_type": "execute_result"
    },
    {
     "data": {
      "image/png": "[encoded data removed]",
      "text/plain": [
       "<Figure size 432x288 with 1 Axes>"
      ]
     },
     "metadata": {
      "needs_background": "light"
     },
     "output_type": "display_data"
    }
   ],
   "source": [
    "plt.plot(list(md_score.keys()), list(md_score.values()))\n",
    "plt.ylabel('mean score')\n",
    "plt.xlabel('max_depth')"
   ]
  },
  {
   "cell_type": "code",
   "execution_count": null,
   "id": "0pqK0YTn_YCh",
   "metadata": {
    "colab": {
     "base_uri": "https://localhost:8080/"
    },
    "id": "0pqK0YTn_YCh",
    "outputId": "a88d681e-0087-4a7e-86a4-7e77faf9847e"
   },
   "outputs": [
    {
     "data": {
      "text/plain": [
       "{0.8: 0.827831324881323, 1: 0.827794186241678}"
      ]
     },
     "execution_count": 56,
     "metadata": {},
     "output_type": "execute_result"
    }
   ],
   "source": [
    "cb_score = {}\n",
    "copy_res = copy.deepcopy(grid_result.best_params_)\n",
    "copy_res.pop('colsample_bytree')\n",
    "\n",
    "for i, value in zip(means, params):\n",
    "  copy_value = copy.deepcopy(value)\n",
    "  copy_value.pop('colsample_bytree')\n",
    "  if copy_res == copy_value:\n",
    "    cb_score[value['colsample_bytree']] = i\n",
    "\n",
    "cb_score"
   ]
  },
  {
   "cell_type": "code",
   "execution_count": null,
   "id": "6IcGIt-gAfVc",
   "metadata": {
    "colab": {
     "base_uri": "https://localhost:8080/",
     "height": 282
    },
    "id": "6IcGIt-gAfVc",
    "outputId": "72d613b6-5d68-4783-bed4-ddd374c6ff2b"
   },
   "outputs": [
    {
     "data": {
      "text/plain": [
       "[<matplotlib.lines.Line2D at 0x7f1440480fd0>]"
      ]
     },
     "execution_count": 57,
     "metadata": {},
     "output_type": "execute_result"
    },
    {
     "data": {
      "image/png": "[encoded data removed]",
      "text/plain": [
       "<Figure size 432x288 with 1 Axes>"
      ]
     },
     "metadata": {
      "needs_background": "light"
     },
     "output_type": "display_data"
    }
   ],
   "source": [
    "plt.plot(list(cb_score.keys()), list(cb_score.values()))\n",
    "plt.ylabel('mean score')\n",
    "plt.xlabel('max_depth')"
   ]
  },
  {
   "cell_type": "code",
   "execution_count": null,
   "id": "KbO53cmbAjOd",
   "metadata": {
    "id": "KbO53cmbAjOd"
   },
   "outputs": [],
   "source": []
  }
 ],
 "metadata": {
  "accelerator": "GPU",
  "colab": {
   "collapsed_sections": [],
   "name": "Diabetes_Tree_Classifier.ipynb",
   "provenance": []
  },
  "gpuClass": "standard",
  "kernelspec": {
   "display_name": "Python 3 (ipykernel)",
   "language": "python",
   "name": "python3"
  },
  "language_info": {
   "codemirror_mode": {
    "name": "ipython",
    "version": 3
   },
   "file_extension": ".py",
   "mimetype": "text/x-python",
   "name": "python",
   "nbconvert_exporter": "python",
   "pygments_lexer": "ipython3",
   "version": "3.10.4"
  }
 },
 "nbformat": 4,
 "nbformat_minor": 5
}
